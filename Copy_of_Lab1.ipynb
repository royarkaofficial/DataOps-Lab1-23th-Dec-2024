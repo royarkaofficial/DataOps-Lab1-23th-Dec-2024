{
  "nbformat": 4,
  "nbformat_minor": 0,
  "metadata": {
    "colab": {
      "provenance": [],
      "include_colab_link": true
    },
    "kernelspec": {
      "name": "python3",
      "display_name": "Python 3"
    },
    "language_info": {
      "name": "python"
    }
  },
  "cells": [
    {
      "cell_type": "markdown",
      "metadata": {
        "id": "view-in-github",
        "colab_type": "text"
      },
      "source": [
        "<a href=\"https://colab.research.google.com/github/royarkaofficial/DataOps-Lab1-23th-Dec-2024/blob/main/Copy_of_Lab1.ipynb\" target=\"_parent\"><img src=\"https://colab.research.google.com/assets/colab-badge.svg\" alt=\"Open In Colab\"/></a>"
      ]
    },
    {
      "cell_type": "markdown",
      "source": [
        "**Variable**"
      ],
      "metadata": {
        "id": "2SCSVnLP-XHn"
      }
    },
    {
      "cell_type": "code",
      "source": [
        "age1 = 25"
      ],
      "metadata": {
        "id": "nJNs5g1y4hLV"
      },
      "execution_count": 1,
      "outputs": []
    },
    {
      "cell_type": "code",
      "source": [
        "age = \"20\""
      ],
      "metadata": {
        "id": "PoZfizK--t1F"
      },
      "execution_count": 2,
      "outputs": []
    },
    {
      "cell_type": "code",
      "source": [
        "print (age)"
      ],
      "metadata": {
        "colab": {
          "base_uri": "https://localhost:8080/"
        },
        "id": "NxM0oGPB-2k5",
        "outputId": "bbe8f2d3-f1d6-4580-8f09-427ed5a86a81"
      },
      "execution_count": 3,
      "outputs": [
        {
          "output_type": "stream",
          "name": "stdout",
          "text": [
            "20\n"
          ]
        }
      ]
    },
    {
      "cell_type": "code",
      "source": [
        "print(age1)"
      ],
      "metadata": {
        "colab": {
          "base_uri": "https://localhost:8080/"
        },
        "id": "KxSZYaMP-9yj",
        "outputId": "2b7db2da-e719-435c-cc02-839ce27e56ce"
      },
      "execution_count": 4,
      "outputs": [
        {
          "output_type": "stream",
          "name": "stdout",
          "text": [
            "25\n"
          ]
        }
      ]
    },
    {
      "cell_type": "code",
      "source": [
        "name = \"Cherry\""
      ],
      "metadata": {
        "id": "AlN05vNw_PCk"
      },
      "execution_count": 5,
      "outputs": []
    },
    {
      "cell_type": "code",
      "source": [
        "type(name)"
      ],
      "metadata": {
        "colab": {
          "base_uri": "https://localhost:8080/"
        },
        "id": "DsNGftCk_ZhG",
        "outputId": "f2fedee1-9517-4d4a-d6a0-873f99e93082"
      },
      "execution_count": 6,
      "outputs": [
        {
          "output_type": "execute_result",
          "data": {
            "text/plain": [
              "str"
            ]
          },
          "metadata": {},
          "execution_count": 6
        }
      ]
    },
    {
      "cell_type": "code",
      "source": [
        "type(age1)"
      ],
      "metadata": {
        "colab": {
          "base_uri": "https://localhost:8080/"
        },
        "id": "33k4apce_hAb",
        "outputId": "ad609e99-1d34-436f-edfa-fab61233e079"
      },
      "execution_count": 7,
      "outputs": [
        {
          "output_type": "execute_result",
          "data": {
            "text/plain": [
              "int"
            ]
          },
          "metadata": {},
          "execution_count": 7
        }
      ]
    },
    {
      "cell_type": "markdown",
      "source": [
        "Updating the variables"
      ],
      "metadata": {
        "id": "Urfy0flv_ufL"
      }
    },
    {
      "cell_type": "code",
      "source": [
        "count = 10\n",
        "count = count + 5"
      ],
      "metadata": {
        "id": "LKgJ93Ii_1Kl"
      },
      "execution_count": 8,
      "outputs": []
    },
    {
      "cell_type": "code",
      "source": [
        "count\n"
      ],
      "metadata": {
        "colab": {
          "base_uri": "https://localhost:8080/"
        },
        "id": "7a6naNxnAAsL",
        "outputId": "5123a9b7-a8ba-426c-d1ad-33d0323695d8"
      },
      "execution_count": 9,
      "outputs": [
        {
          "output_type": "execute_result",
          "data": {
            "text/plain": [
              "15"
            ]
          },
          "metadata": {},
          "execution_count": 9
        }
      ]
    },
    {
      "cell_type": "code",
      "source": [
        "count = 25\n",
        "count += 5"
      ],
      "metadata": {
        "id": "TIqsB8kmAIR6"
      },
      "execution_count": 10,
      "outputs": []
    },
    {
      "cell_type": "code",
      "source": [
        "count"
      ],
      "metadata": {
        "colab": {
          "base_uri": "https://localhost:8080/"
        },
        "id": "6xGMGVjOAyox",
        "outputId": "ccbfd7e3-6c80-4ca3-d9bb-958ca702c3d2"
      },
      "execution_count": 11,
      "outputs": [
        {
          "output_type": "execute_result",
          "data": {
            "text/plain": [
              "30"
            ]
          },
          "metadata": {},
          "execution_count": 11
        }
      ]
    },
    {
      "cell_type": "code",
      "source": [
        "count -= 5"
      ],
      "metadata": {
        "id": "9LIQV0RrA2sf"
      },
      "execution_count": 12,
      "outputs": []
    },
    {
      "cell_type": "code",
      "source": [
        "count"
      ],
      "metadata": {
        "colab": {
          "base_uri": "https://localhost:8080/"
        },
        "id": "b4e2daN8A5Yc",
        "outputId": "01c40557-80d7-4154-a50f-68c1e46b9175"
      },
      "execution_count": 13,
      "outputs": [
        {
          "output_type": "execute_result",
          "data": {
            "text/plain": [
              "25"
            ]
          },
          "metadata": {},
          "execution_count": 13
        }
      ]
    },
    {
      "cell_type": "code",
      "source": [
        "count *= 2"
      ],
      "metadata": {
        "id": "a7oAKqKgBDTV"
      },
      "execution_count": 14,
      "outputs": []
    },
    {
      "cell_type": "code",
      "source": [
        "count"
      ],
      "metadata": {
        "colab": {
          "base_uri": "https://localhost:8080/"
        },
        "id": "vYmgd-hFBJtx",
        "outputId": "16e3d8f4-c43c-4870-c768-7ec05d4cf93a"
      },
      "execution_count": 15,
      "outputs": [
        {
          "output_type": "execute_result",
          "data": {
            "text/plain": [
              "50"
            ]
          },
          "metadata": {},
          "execution_count": 15
        }
      ]
    },
    {
      "cell_type": "code",
      "source": [
        "count /= 3"
      ],
      "metadata": {
        "id": "-ZL0kPuFBL2v"
      },
      "execution_count": 16,
      "outputs": []
    },
    {
      "cell_type": "code",
      "source": [
        "count"
      ],
      "metadata": {
        "colab": {
          "base_uri": "https://localhost:8080/"
        },
        "id": "ZiAIX42BBUjj",
        "outputId": "48ec061f-1f7a-498f-eb8e-ba336766b15f"
      },
      "execution_count": 17,
      "outputs": [
        {
          "output_type": "execute_result",
          "data": {
            "text/plain": [
              "16.666666666666668"
            ]
          },
          "metadata": {},
          "execution_count": 17
        }
      ]
    },
    {
      "cell_type": "markdown",
      "source": [
        "Multiple variable Assignments"
      ],
      "metadata": {
        "id": "LwmVyTS0Biau"
      }
    },
    {
      "cell_type": "code",
      "source": [
        "a , b, c, d = 10 , 20 , 30 , 40"
      ],
      "metadata": {
        "id": "S3_26ifUBlgb"
      },
      "execution_count": 18,
      "outputs": []
    },
    {
      "cell_type": "code",
      "source": [
        "print(a)\n",
        "print(b)\n",
        "print(c)\n",
        "print(d)"
      ],
      "metadata": {
        "colab": {
          "base_uri": "https://localhost:8080/"
        },
        "id": "FB71V_-HBvnK",
        "outputId": "1a96fc8c-41a4-4642-e35a-45052f6d30d9"
      },
      "execution_count": 19,
      "outputs": [
        {
          "output_type": "stream",
          "name": "stdout",
          "text": [
            "10\n",
            "20\n",
            "30\n",
            "40\n"
          ]
        }
      ]
    },
    {
      "cell_type": "code",
      "source": [
        "x = y = z= s= 10000"
      ],
      "metadata": {
        "id": "xFH8MhH8B3jb"
      },
      "execution_count": 20,
      "outputs": []
    },
    {
      "cell_type": "code",
      "source": [
        "print(x)\n",
        "print(y)\n",
        "print(z)\n",
        "print(s)"
      ],
      "metadata": {
        "colab": {
          "base_uri": "https://localhost:8080/"
        },
        "id": "byM8Z5nzCDIX",
        "outputId": "84bd3490-a24d-4ed5-82de-93c6fc554c9a"
      },
      "execution_count": 21,
      "outputs": [
        {
          "output_type": "stream",
          "name": "stdout",
          "text": [
            "10000\n",
            "10000\n",
            "10000\n",
            "10000\n"
          ]
        }
      ]
    },
    {
      "cell_type": "markdown",
      "source": [
        "Dynmaic Typing"
      ],
      "metadata": {
        "id": "MxTqo4UgCXSN"
      }
    },
    {
      "cell_type": "code",
      "source": [
        "x = \"hello\"\n",
        "x = 15"
      ],
      "metadata": {
        "id": "jUzAZb1vCZ1M"
      },
      "execution_count": 22,
      "outputs": []
    },
    {
      "cell_type": "code",
      "source": [
        "type(x)"
      ],
      "metadata": {
        "colab": {
          "base_uri": "https://localhost:8080/"
        },
        "id": "HPtQOLthCe_l",
        "outputId": "9f03f9bb-e868-426f-df87-23d78945d57a"
      },
      "execution_count": 23,
      "outputs": [
        {
          "output_type": "execute_result",
          "data": {
            "text/plain": [
              "int"
            ]
          },
          "metadata": {},
          "execution_count": 23
        }
      ]
    },
    {
      "cell_type": "markdown",
      "source": [
        "Input Output Operators"
      ],
      "metadata": {
        "id": "vOEqEnYEC-7J"
      }
    },
    {
      "cell_type": "code",
      "source": [
        " a = input()\n",
        " print(a)"
      ],
      "metadata": {
        "colab": {
          "base_uri": "https://localhost:8080/"
        },
        "id": "5ddmhg6rDET8",
        "outputId": "20dc5798-a9b8-4fd9-ef86-c39d455fae6a"
      },
      "execution_count": 24,
      "outputs": [
        {
          "output_type": "stream",
          "name": "stdout",
          "text": [
            "15\n",
            "15\n"
          ]
        }
      ]
    },
    {
      "cell_type": "code",
      "source": [
        "b = input(\"Enter your name: \")\n",
        "print(b)"
      ],
      "metadata": {
        "colab": {
          "base_uri": "https://localhost:8080/"
        },
        "id": "XLJwHIRnDcvS",
        "outputId": "6c89ea9b-8036-4938-a9c2-77a2c19d345e"
      },
      "execution_count": 25,
      "outputs": [
        {
          "output_type": "stream",
          "name": "stdout",
          "text": [
            "Enter your name: 20\n",
            "20\n"
          ]
        }
      ]
    },
    {
      "cell_type": "code",
      "source": [
        "height = float(input(\"Enter your height: \"))\n",
        "print(height)"
      ],
      "metadata": {
        "colab": {
          "base_uri": "https://localhost:8080/"
        },
        "id": "p5XDX2uFDqyC",
        "outputId": "70f85f8e-8e1b-4410-e9dd-f4f596e6c789"
      },
      "execution_count": 26,
      "outputs": [
        {
          "output_type": "stream",
          "name": "stdout",
          "text": [
            "Enter your height: 12.6\n",
            "12.6\n"
          ]
        }
      ]
    },
    {
      "cell_type": "code",
      "source": [
        "type(height)"
      ],
      "metadata": {
        "colab": {
          "base_uri": "https://localhost:8080/"
        },
        "id": "lv7BCW-LD8A_",
        "outputId": "638968db-04e1-4c5c-b0e6-fff97cf796b6"
      },
      "execution_count": 27,
      "outputs": [
        {
          "output_type": "execute_result",
          "data": {
            "text/plain": [
              "float"
            ]
          },
          "metadata": {},
          "execution_count": 27
        }
      ]
    },
    {
      "cell_type": "markdown",
      "source": [
        "Output operator"
      ],
      "metadata": {
        "id": "MVkzWOr9EPTP"
      }
    },
    {
      "cell_type": "code",
      "source": [
        "print(\"hello world\")"
      ],
      "metadata": {
        "colab": {
          "base_uri": "https://localhost:8080/"
        },
        "id": "Af-fhm5FEPCW",
        "outputId": "de9f7067-4674-4f8a-f04e-52e67741a190"
      },
      "execution_count": 28,
      "outputs": [
        {
          "output_type": "stream",
          "name": "stdout",
          "text": [
            "hello world\n"
          ]
        }
      ]
    },
    {
      "cell_type": "code",
      "source": [
        "name = \"Sushravya\"\n",
        "age = \"60\"\n",
        "print('My name is',name,'and my age is',age)"
      ],
      "metadata": {
        "colab": {
          "base_uri": "https://localhost:8080/"
        },
        "id": "TuOvH61cEbjl",
        "outputId": "88b4d94b-ff3d-4e70-bfe2-0aae89b7e6cc"
      },
      "execution_count": 29,
      "outputs": [
        {
          "output_type": "stream",
          "name": "stdout",
          "text": [
            "My name is Sushravya and my age is 60\n"
          ]
        }
      ]
    },
    {
      "cell_type": "code",
      "source": [
        "print(f\"My name is {name} and my age is {age}\")"
      ],
      "metadata": {
        "colab": {
          "base_uri": "https://localhost:8080/"
        },
        "id": "-xojMmXWE2X6",
        "outputId": "3b6a4cad-d229-40f0-94a3-549add03e034"
      },
      "execution_count": 30,
      "outputs": [
        {
          "output_type": "stream",
          "name": "stdout",
          "text": [
            "My name is Sushravya and my age is 60\n"
          ]
        }
      ]
    },
    {
      "cell_type": "markdown",
      "source": [
        "Conditional Control Statements"
      ],
      "metadata": {
        "id": "-sHQq9gcPZ7f"
      }
    },
    {
      "cell_type": "markdown",
      "source": [
        "Basic IF Statement"
      ],
      "metadata": {
        "id": "30B5MoPBPdx9"
      }
    },
    {
      "cell_type": "code",
      "source": [
        "age = 26\n",
        "if age >= 18 :\n",
        "  print(\"You are eligible to vote!\")"
      ],
      "metadata": {
        "colab": {
          "base_uri": "https://localhost:8080/"
        },
        "id": "NMhuYVHbPdGj",
        "outputId": "595cc7c8-66df-4db6-a254-02045bd7f2fa"
      },
      "execution_count": 31,
      "outputs": [
        {
          "output_type": "stream",
          "name": "stdout",
          "text": [
            "You are eligible to vote!\n"
          ]
        }
      ]
    },
    {
      "cell_type": "markdown",
      "source": [
        "IF ELSE statements"
      ],
      "metadata": {
        "id": "zBEI8M56QMb4"
      }
    },
    {
      "cell_type": "code",
      "source": [
        "age = 16\n",
        "if age >= 18 :\n",
        "  print(\"You are eligible to vote!\")\n",
        "else :\n",
        "  print(\"You are not eligible to vote\")"
      ],
      "metadata": {
        "colab": {
          "base_uri": "https://localhost:8080/"
        },
        "id": "8QohvvtAQSYF",
        "outputId": "8b79cad8-e015-411f-8cd6-75c94dd3a1bc"
      },
      "execution_count": 32,
      "outputs": [
        {
          "output_type": "stream",
          "name": "stdout",
          "text": [
            "You are not eligible to vote\n"
          ]
        }
      ]
    },
    {
      "cell_type": "markdown",
      "source": [
        "elif statements"
      ],
      "metadata": {
        "id": "0c45Fx7cQirD"
      }
    },
    {
      "cell_type": "code",
      "source": [
        "score = 60\n",
        "if score >= 90 :\n",
        "  print(\"Grade A\")\n",
        "elif score >= 80 :\n",
        "  print(\"Grade B\")\n",
        "elif score >= 70 :\n",
        "  print(\"Grade C\")\n",
        "elif score >= 60 :\n",
        "  print(\"Grade D\")\n",
        "else :\n",
        "  print(\"Grade F\")"
      ],
      "metadata": {
        "colab": {
          "base_uri": "https://localhost:8080/"
        },
        "id": "zoQolk_kQtDr",
        "outputId": "f99cce87-bfde-4573-978c-f59feaa4b8c4"
      },
      "execution_count": 34,
      "outputs": [
        {
          "output_type": "stream",
          "name": "stdout",
          "text": [
            "Grade D\n"
          ]
        }
      ]
    },
    {
      "cell_type": "markdown",
      "source": [
        "Nested IF statement"
      ],
      "metadata": {
        "id": "wuvrEPnFRQIw"
      }
    },
    {
      "cell_type": "code",
      "source": [
        "age = 10\n",
        "voter_id = \"yes\"\n",
        "if age >=18 :\n",
        "  if voter_id == \"yes\":\n",
        "    print(\"You are eligble to vote\")\n",
        "  else :\n",
        "    print(\"You are not eligible to vote\")\n",
        "else :\n",
        "  print(\"You are not eligible to vote\")\n"
      ],
      "metadata": {
        "colab": {
          "base_uri": "https://localhost:8080/"
        },
        "id": "cG0mPjRtRR4V",
        "outputId": "11299299-cf2e-4c04-80d1-3221a325b6a8"
      },
      "execution_count": 35,
      "outputs": [
        {
          "output_type": "stream",
          "name": "stdout",
          "text": [
            "You are not eligible to vote\n"
          ]
        }
      ]
    },
    {
      "cell_type": "markdown",
      "source": [
        "**LOOPS**"
      ],
      "metadata": {
        "id": "4sEkapw8SUJf"
      }
    },
    {
      "cell_type": "markdown",
      "source": [
        "FOR loop"
      ],
      "metadata": {
        "id": "7_NVEQ5ySZcb"
      }
    },
    {
      "cell_type": "code",
      "source": [
        "fruits = [\"apple\",\"orange\",\"grapes\"]\n",
        "print(fruits)"
      ],
      "metadata": {
        "colab": {
          "base_uri": "https://localhost:8080/"
        },
        "id": "fxGhW9q7SXzd",
        "outputId": "fa6b3e16-6a29-4c38-b7ea-c0ca19ec4008"
      },
      "execution_count": 36,
      "outputs": [
        {
          "output_type": "stream",
          "name": "stdout",
          "text": [
            "['apple', 'orange', 'grapes']\n"
          ]
        }
      ]
    },
    {
      "cell_type": "code",
      "source": [
        "print(fruits[0])\n",
        "print(fruits[1])\n",
        "print(fruits[2])"
      ],
      "metadata": {
        "colab": {
          "base_uri": "https://localhost:8080/"
        },
        "id": "KEeo4fDCStlZ",
        "outputId": "fdb64e9b-f2fd-4c84-b83a-82a976563be0"
      },
      "execution_count": 37,
      "outputs": [
        {
          "output_type": "stream",
          "name": "stdout",
          "text": [
            "apple\n",
            "orange\n",
            "grapes\n"
          ]
        }
      ]
    },
    {
      "cell_type": "code",
      "source": [
        "for i in fruits :\n",
        "  print(i)\n",
        "print(\"These are the fruits\")"
      ],
      "metadata": {
        "colab": {
          "base_uri": "https://localhost:8080/"
        },
        "id": "DfNIyjBjTA5-",
        "outputId": "36c9c22a-a9a7-4412-acae-6d8c1918f024"
      },
      "execution_count": 38,
      "outputs": [
        {
          "output_type": "stream",
          "name": "stdout",
          "text": [
            "apple\n",
            "orange\n",
            "grapes\n",
            "These are the fruits\n"
          ]
        }
      ]
    },
    {
      "cell_type": "code",
      "source": [
        "for i in range(10):\n",
        "  print(\"I'm at\",i,\"position\")"
      ],
      "metadata": {
        "colab": {
          "base_uri": "https://localhost:8080/"
        },
        "id": "o-0uEaitTY1l",
        "outputId": "50bdc953-854d-40ff-a6b7-2dcc819d0d6a"
      },
      "execution_count": 39,
      "outputs": [
        {
          "output_type": "stream",
          "name": "stdout",
          "text": [
            "I'm at 0 position\n",
            "I'm at 1 position\n",
            "I'm at 2 position\n",
            "I'm at 3 position\n",
            "I'm at 4 position\n",
            "I'm at 5 position\n",
            "I'm at 6 position\n",
            "I'm at 7 position\n",
            "I'm at 8 position\n",
            "I'm at 9 position\n"
          ]
        }
      ]
    },
    {
      "cell_type": "markdown",
      "source": [
        "While Loop"
      ],
      "metadata": {
        "id": "bFzP4tyMT1r5"
      }
    },
    {
      "cell_type": "code",
      "source": [
        "count = 0\n",
        "while count <= 10:\n",
        "  print(count, end=\" \")  # 0,1,2,3,4,5,6\n",
        "  count += 1"
      ],
      "metadata": {
        "colab": {
          "base_uri": "https://localhost:8080/"
        },
        "id": "MXOqgg62T1bW",
        "outputId": "9cd5fd71-b01a-419a-c3ee-da689b927de3"
      },
      "execution_count": 43,
      "outputs": [
        {
          "output_type": "stream",
          "name": "stdout",
          "text": [
            "0 1 2 3 4 5 6 7 8 9 10 "
          ]
        }
      ]
    },
    {
      "cell_type": "markdown",
      "source": [
        "Control statements in Loops (Break and Continue)"
      ],
      "metadata": {
        "id": "QpUnUWizVFZn"
      }
    },
    {
      "cell_type": "code",
      "source": [
        "for i in range (10):\n",
        "  if i == 5 :\n",
        "    break\n",
        "  print(i)"
      ],
      "metadata": {
        "colab": {
          "base_uri": "https://localhost:8080/"
        },
        "id": "EI0UyAR5VKcr",
        "outputId": "fac1d424-0994-4b27-a70a-d118ec45a09f"
      },
      "execution_count": 44,
      "outputs": [
        {
          "output_type": "stream",
          "name": "stdout",
          "text": [
            "0\n",
            "1\n",
            "2\n",
            "3\n",
            "4\n"
          ]
        }
      ]
    },
    {
      "cell_type": "code",
      "source": [
        "for i in range (10):\n",
        "  if i == 5 :\n",
        "    continue\n",
        "  print(i)"
      ],
      "metadata": {
        "colab": {
          "base_uri": "https://localhost:8080/"
        },
        "id": "CRstsJdFVqNR",
        "outputId": "1d0c7fe5-5340-4f75-896a-14b0ec77db6e"
      },
      "execution_count": 45,
      "outputs": [
        {
          "output_type": "stream",
          "name": "stdout",
          "text": [
            "0\n",
            "1\n",
            "2\n",
            "3\n",
            "4\n",
            "6\n",
            "7\n",
            "8\n",
            "9\n"
          ]
        }
      ]
    },
    {
      "cell_type": "markdown",
      "source": [
        "Nested Loop"
      ],
      "metadata": {
        "id": "QGig5FHBV3ju"
      }
    },
    {
      "cell_type": "code",
      "source": [
        "matrix = [[1,2],[3,4],[6,7]]\n",
        "print(matrix)"
      ],
      "metadata": {
        "colab": {
          "base_uri": "https://localhost:8080/"
        },
        "id": "yJieTkAfV5CQ",
        "outputId": "5e5d2ff8-29a6-457d-eed4-1ca6d3c35d5e"
      },
      "execution_count": 46,
      "outputs": [
        {
          "output_type": "stream",
          "name": "stdout",
          "text": [
            "[[1, 2], [3, 4], [6, 7]]\n"
          ]
        }
      ]
    },
    {
      "cell_type": "code",
      "source": [
        "for i in matrix :\n",
        "  print(i)"
      ],
      "metadata": {
        "colab": {
          "base_uri": "https://localhost:8080/"
        },
        "id": "SuTitNeDWLlv",
        "outputId": "7fa7358a-0f80-4cc4-e7fc-b26db46a4003"
      },
      "execution_count": 49,
      "outputs": [
        {
          "output_type": "stream",
          "name": "stdout",
          "text": [
            "[1, 2]\n",
            "[3, 4]\n",
            "[6, 7]\n"
          ]
        }
      ]
    },
    {
      "cell_type": "code",
      "source": [
        "for i in matrix :\n",
        "  for j in i:\n",
        "    print(j)"
      ],
      "metadata": {
        "colab": {
          "base_uri": "https://localhost:8080/"
        },
        "id": "DzPXAwW4WSmG",
        "outputId": "821dba4b-8fa5-411a-afb7-e273a566f53b"
      },
      "execution_count": 50,
      "outputs": [
        {
          "output_type": "stream",
          "name": "stdout",
          "text": [
            "1\n",
            "2\n",
            "3\n",
            "4\n",
            "6\n",
            "7\n"
          ]
        }
      ]
    },
    {
      "cell_type": "code",
      "source": [
        " r = 25\n",
        " for i in range(r , 0 , -1):\n",
        "  for j in range(i):\n",
        "    print(\"*\",end=\"\")\n",
        "  print()"
      ],
      "metadata": {
        "colab": {
          "base_uri": "https://localhost:8080/"
        },
        "id": "9bWb0mlNYF4j",
        "outputId": "84867830-f19b-4ec7-ca0a-629681df9634"
      },
      "execution_count": 54,
      "outputs": [
        {
          "output_type": "stream",
          "name": "stdout",
          "text": [
            "*************************\n",
            "************************\n",
            "***********************\n",
            "**********************\n",
            "*********************\n",
            "********************\n",
            "*******************\n",
            "******************\n",
            "*****************\n",
            "****************\n",
            "***************\n",
            "**************\n",
            "*************\n",
            "************\n",
            "***********\n",
            "**********\n",
            "*********\n",
            "********\n",
            "*******\n",
            "******\n",
            "*****\n",
            "****\n",
            "***\n",
            "**\n",
            "*\n"
          ]
        }
      ]
    },
    {
      "cell_type": "code",
      "source": [
        " r = 25\n",
        " for i in range(r):\n",
        "  for j in range(i):\n",
        "    print(\"*\",end=\"\")\n",
        "  print()"
      ],
      "metadata": {
        "colab": {
          "base_uri": "https://localhost:8080/"
        },
        "id": "HWO6v-fLYniQ",
        "outputId": "a2c4240b-cdfe-4584-e610-dcee26c34df5"
      },
      "execution_count": 55,
      "outputs": [
        {
          "output_type": "stream",
          "name": "stdout",
          "text": [
            "\n",
            "*\n",
            "**\n",
            "***\n",
            "****\n",
            "*****\n",
            "******\n",
            "*******\n",
            "********\n",
            "*********\n",
            "**********\n",
            "***********\n",
            "************\n",
            "*************\n",
            "**************\n",
            "***************\n",
            "****************\n",
            "*****************\n",
            "******************\n",
            "*******************\n",
            "********************\n",
            "*********************\n",
            "**********************\n",
            "***********************\n",
            "************************\n"
          ]
        }
      ]
    },
    {
      "cell_type": "markdown",
      "source": [
        "LISTS"
      ],
      "metadata": {
        "id": "5NF56UP8Y1R0"
      }
    },
    {
      "cell_type": "code",
      "source": [
        "a = [\"shravya\",608,\"Cheery\",\"CloudThat\",6562]"
      ],
      "metadata": {
        "id": "89SkxHhmY973"
      },
      "execution_count": 56,
      "outputs": []
    },
    {
      "cell_type": "code",
      "source": [
        "type(a)"
      ],
      "metadata": {
        "colab": {
          "base_uri": "https://localhost:8080/"
        },
        "id": "YFgzjcRfZgvA",
        "outputId": "4c62aa45-2960-4607-e71d-bbb93396692b"
      },
      "execution_count": 57,
      "outputs": [
        {
          "output_type": "execute_result",
          "data": {
            "text/plain": [
              "list"
            ]
          },
          "metadata": {},
          "execution_count": 57
        }
      ]
    },
    {
      "cell_type": "code",
      "source": [
        "print(a[2])\n",
        "print(a[3])"
      ],
      "metadata": {
        "colab": {
          "base_uri": "https://localhost:8080/"
        },
        "id": "eABlG53dZqoz",
        "outputId": "3bd7e710-a29d-4739-9052-13e685f51ea1"
      },
      "execution_count": 58,
      "outputs": [
        {
          "output_type": "stream",
          "name": "stdout",
          "text": [
            "Cheery\n",
            "CloudThat\n"
          ]
        }
      ]
    },
    {
      "cell_type": "markdown",
      "source": [
        "Modify list"
      ],
      "metadata": {
        "id": "-EFQUN_OZ2cX"
      }
    },
    {
      "cell_type": "code",
      "source": [
        "a.append(6)\n",
        "print(a)"
      ],
      "metadata": {
        "colab": {
          "base_uri": "https://localhost:8080/"
        },
        "id": "gdxeMAmFZ2LJ",
        "outputId": "99180896-b099-4798-ad45-6b9ed0c5eb31"
      },
      "execution_count": 59,
      "outputs": [
        {
          "output_type": "stream",
          "name": "stdout",
          "text": [
            "['shravya', 608, 'Cheery', 'CloudThat', 6562, 6]\n"
          ]
        }
      ]
    },
    {
      "cell_type": "code",
      "source": [
        "b = [66,\"abcd\",98,\"AI\"]\n",
        "a.extend(b)\n",
        "print(a)"
      ],
      "metadata": {
        "colab": {
          "base_uri": "https://localhost:8080/"
        },
        "id": "QeucGYs9aVzL",
        "outputId": "aa61159f-6035-4a5e-80fa-cc74a76b1612"
      },
      "execution_count": 61,
      "outputs": [
        {
          "output_type": "stream",
          "name": "stdout",
          "text": [
            "['shravya', 608, 'Cheery', 'CloudThat', 6562, 6, 66, 'abcd', 98, 'AI', 66, 'abcd', 98, 'AI']\n"
          ]
        }
      ]
    },
    {
      "cell_type": "code",
      "source": [
        "a.insert(2,\"Hi all\")\n",
        "print(a)"
      ],
      "metadata": {
        "colab": {
          "base_uri": "https://localhost:8080/"
        },
        "id": "Po4_xstYaoOM",
        "outputId": "f68de2ee-72b2-4f96-ec95-02d84cab04e9"
      },
      "execution_count": 62,
      "outputs": [
        {
          "output_type": "stream",
          "name": "stdout",
          "text": [
            "['shravya', 608, 'Hi all', 'Cheery', 'CloudThat', 6562, 6, 66, 'abcd', 98, 'AI', 66, 'abcd', 98, 'AI']\n"
          ]
        }
      ]
    },
    {
      "cell_type": "code",
      "source": [
        "a[2] = \"Hello Everyone\"\n",
        "print(a)"
      ],
      "metadata": {
        "colab": {
          "base_uri": "https://localhost:8080/"
        },
        "id": "VMd2qfOka0i7",
        "outputId": "7b8badc6-2c97-44d5-b318-dcb10eb6fa73"
      },
      "execution_count": 63,
      "outputs": [
        {
          "output_type": "stream",
          "name": "stdout",
          "text": [
            "['shravya', 608, 'Hello Everyone', 'Cheery', 'CloudThat', 6562, 6, 66, 'abcd', 98, 'AI', 66, 'abcd', 98, 'AI']\n"
          ]
        }
      ]
    },
    {
      "cell_type": "code",
      "source": [
        "del a[7]\n",
        "print(a)"
      ],
      "metadata": {
        "colab": {
          "base_uri": "https://localhost:8080/"
        },
        "id": "kiYgwKsBa6_9",
        "outputId": "48035428-33c9-49e8-a0cf-b3df762f7fdf"
      },
      "execution_count": 64,
      "outputs": [
        {
          "output_type": "stream",
          "name": "stdout",
          "text": [
            "['shravya', 608, 'Hello Everyone', 'Cheery', 'CloudThat', 6562, 6, 'abcd', 98, 'AI', 66, 'abcd', 98, 'AI']\n"
          ]
        }
      ]
    },
    {
      "cell_type": "code",
      "source": [
        "a.remove(6)\n",
        "print(a)"
      ],
      "metadata": {
        "colab": {
          "base_uri": "https://localhost:8080/"
        },
        "id": "8fqCI73gbDAW",
        "outputId": "43f36017-1e87-4997-a581-e97eafaed17f"
      },
      "execution_count": 65,
      "outputs": [
        {
          "output_type": "stream",
          "name": "stdout",
          "text": [
            "['shravya', 608, 'Hello Everyone', 'Cheery', 'CloudThat', 6562, 'abcd', 98, 'AI', 66, 'abcd', 98, 'AI']\n"
          ]
        }
      ]
    },
    {
      "cell_type": "code",
      "source": [
        "a.pop(1)\n",
        "print(a)"
      ],
      "metadata": {
        "id": "4gPpbEzUbPYm",
        "outputId": "ce141c8b-837c-4939-a76e-72ec141c369e",
        "colab": {
          "base_uri": "https://localhost:8080/"
        }
      },
      "execution_count": 66,
      "outputs": [
        {
          "output_type": "stream",
          "name": "stdout",
          "text": [
            "['shravya', 'Hello Everyone', 'Cheery', 'CloudThat', 6562, 'abcd', 98, 'AI', 66, 'abcd', 98, 'AI']\n"
          ]
        }
      ]
    },
    {
      "cell_type": "markdown",
      "source": [
        "Positive Indexing"
      ],
      "metadata": {
        "id": "EYTHVvKl7IXk"
      }
    },
    {
      "cell_type": "code",
      "source": [
        "print(a[2])\n",
        "print(a[3])"
      ],
      "metadata": {
        "colab": {
          "base_uri": "https://localhost:8080/"
        },
        "id": "DvlfjjVJ7K4f",
        "outputId": "f8d2306f-6022-4b9e-fd29-2dce7b5f5a22"
      },
      "execution_count": 67,
      "outputs": [
        {
          "output_type": "stream",
          "name": "stdout",
          "text": [
            "Cheery\n",
            "CloudThat\n"
          ]
        }
      ]
    },
    {
      "cell_type": "markdown",
      "source": [
        "Negative Indexing"
      ],
      "metadata": {
        "id": "N0KcBOgl7yS4"
      }
    },
    {
      "cell_type": "code",
      "source": [
        "print(a[-2])\n",
        "print(a[-3])"
      ],
      "metadata": {
        "colab": {
          "base_uri": "https://localhost:8080/"
        },
        "id": "MuuR3ENp70fM",
        "outputId": "08f55b33-ded9-4a84-8522-99d0d5a0628d"
      },
      "execution_count": 68,
      "outputs": [
        {
          "output_type": "stream",
          "name": "stdout",
          "text": [
            "98\n",
            "abcd\n"
          ]
        }
      ]
    },
    {
      "cell_type": "markdown",
      "source": [
        "Slicing"
      ],
      "metadata": {
        "id": "CgMuY4E68AZ2"
      }
    },
    {
      "cell_type": "code",
      "source": [
        "print(a)"
      ],
      "metadata": {
        "colab": {
          "base_uri": "https://localhost:8080/"
        },
        "id": "eIaHrSb18BZt",
        "outputId": "7dd9addc-10ea-4858-bc44-361693ec993e"
      },
      "execution_count": 69,
      "outputs": [
        {
          "output_type": "stream",
          "name": "stdout",
          "text": [
            "['shravya', 'Hello Everyone', 'Cheery', 'CloudThat', 6562, 'abcd', 98, 'AI', 66, 'abcd', 98, 'AI']\n"
          ]
        }
      ]
    },
    {
      "cell_type": "markdown",
      "source": [
        "Get a slice index 1 to 3"
      ],
      "metadata": {
        "id": "-HEtax6I8E7B"
      }
    },
    {
      "cell_type": "code",
      "source": [
        "print(a[1:3])"
      ],
      "metadata": {
        "colab": {
          "base_uri": "https://localhost:8080/"
        },
        "id": "xAUK9x3G8HjV",
        "outputId": "685b1dbc-0c76-4db0-a5b0-385a33ae6992"
      },
      "execution_count": 71,
      "outputs": [
        {
          "output_type": "stream",
          "name": "stdout",
          "text": [
            "['Hello Everyone', 'Cheery']\n"
          ]
        }
      ]
    },
    {
      "cell_type": "code",
      "source": [
        "print(a[0:7:1])\n",
        "# Start (0): The slice starts from index 0 ('shravya').\n",
        "# Stop (7): The slice stops at index 7 (exclusive), so it includes elements up to index 6.\n",
        "# Step (1): The step determines the increment; here, it takes every element one at a time."
      ],
      "metadata": {
        "colab": {
          "base_uri": "https://localhost:8080/"
        },
        "id": "rV2h95ez8hAj",
        "outputId": "1802d595-2818-45a8-f6af-f2d2fca3ac7e"
      },
      "execution_count": 76,
      "outputs": [
        {
          "output_type": "stream",
          "name": "stdout",
          "text": [
            "Shravya\n"
          ]
        }
      ]
    },
    {
      "cell_type": "code",
      "source": [
        "print(a[::-1])"
      ],
      "metadata": {
        "colab": {
          "base_uri": "https://localhost:8080/"
        },
        "id": "pl2wsaMI9bZs",
        "outputId": "0aa9604b-92bc-477b-85a1-82625a91bcc9"
      },
      "execution_count": 73,
      "outputs": [
        {
          "output_type": "stream",
          "name": "stdout",
          "text": [
            "['AI', 98, 'abcd', 66, 'AI', 98, 'abcd', 6562, 'CloudThat', 'Cheery', 'Hello Everyone', 'shravya']\n"
          ]
        }
      ]
    },
    {
      "cell_type": "code",
      "source": [
        "a = \"Shravya\"\n",
        "print(a[::-1])"
      ],
      "metadata": {
        "colab": {
          "base_uri": "https://localhost:8080/"
        },
        "id": "aa6_0GTG9u0q",
        "outputId": "b3e48793-26b0-4598-a971-dafe1a1a12bb"
      },
      "execution_count": 74,
      "outputs": [
        {
          "output_type": "stream",
          "name": "stdout",
          "text": [
            "ayvarhS\n"
          ]
        }
      ]
    },
    {
      "cell_type": "markdown",
      "source": [
        "Tuples"
      ],
      "metadata": {
        "id": "a45tfSJA96SK"
      }
    },
    {
      "cell_type": "markdown",
      "source": [
        "Creating the Tuple"
      ],
      "metadata": {
        "id": "aa-bwCZr-B3r"
      }
    },
    {
      "cell_type": "code",
      "source": [
        "tuple1 = (\"Shravya\" , \"Cheery\" , 2 , 4 , 6.8)"
      ],
      "metadata": {
        "id": "1XTJbdpX999-"
      },
      "execution_count": 77,
      "outputs": []
    },
    {
      "cell_type": "code",
      "source": [
        "tuple2 = 4 , 5, 6, \"Sushravya\""
      ],
      "metadata": {
        "id": "rMtxbS48-Nxs"
      },
      "execution_count": 78,
      "outputs": []
    },
    {
      "cell_type": "code",
      "source": [
        "tuple3 = ()"
      ],
      "metadata": {
        "id": "blAdW8kV-a7K"
      },
      "execution_count": 79,
      "outputs": []
    },
    {
      "cell_type": "code",
      "source": [
        "tuple4 = (42,)"
      ],
      "metadata": {
        "id": "lOSh_T8P-ehk"
      },
      "execution_count": 80,
      "outputs": []
    },
    {
      "cell_type": "code",
      "source": [
        "print(type(tuple1))\n",
        "print(type(tuple2))\n",
        "print(type(tuple3))\n",
        "print(type(tuple4))\n",
        "\n",
        "print(tuple1)\n",
        "print(tuple2)\n",
        "print(tuple3)\n",
        "print(tuple4)"
      ],
      "metadata": {
        "colab": {
          "base_uri": "https://localhost:8080/"
        },
        "id": "CErsrwXM-jPn",
        "outputId": "37dbb32b-c37a-4369-ec6b-9f72f896c120"
      },
      "execution_count": 82,
      "outputs": [
        {
          "output_type": "stream",
          "name": "stdout",
          "text": [
            "<class 'tuple'>\n",
            "<class 'tuple'>\n",
            "<class 'tuple'>\n",
            "<class 'tuple'>\n",
            "('Shravya', 'Cheery', 2, 4, 6.8)\n",
            "(4, 5, 6, 'Sushravya')\n",
            "()\n",
            "(42,)\n"
          ]
        }
      ]
    },
    {
      "cell_type": "code",
      "source": [
        "tuple1[2]=\"abcd\""
      ],
      "metadata": {
        "colab": {
          "base_uri": "https://localhost:8080/",
          "height": 141
        },
        "id": "2MmOcjaL-qiF",
        "outputId": "c6b3357f-dfff-48ad-9053-a5e9adc643a6"
      },
      "execution_count": 83,
      "outputs": [
        {
          "output_type": "error",
          "ename": "TypeError",
          "evalue": "'tuple' object does not support item assignment",
          "traceback": [
            "\u001b[0;31m---------------------------------------------------------------------------\u001b[0m",
            "\u001b[0;31mTypeError\u001b[0m                                 Traceback (most recent call last)",
            "\u001b[0;32m<ipython-input-83-c101eecfd463>\u001b[0m in \u001b[0;36m<cell line: 1>\u001b[0;34m()\u001b[0m\n\u001b[0;32m----> 1\u001b[0;31m \u001b[0mtuple1\u001b[0m\u001b[0;34m[\u001b[0m\u001b[0;36m2\u001b[0m\u001b[0;34m]\u001b[0m\u001b[0;34m=\u001b[0m\u001b[0;34m\"abcd\"\u001b[0m\u001b[0;34m\u001b[0m\u001b[0;34m\u001b[0m\u001b[0m\n\u001b[0m",
            "\u001b[0;31mTypeError\u001b[0m: 'tuple' object does not support item assignment"
          ]
        }
      ]
    },
    {
      "cell_type": "markdown",
      "source": [
        "Access the tuple elements"
      ],
      "metadata": {
        "id": "kTe6WCiA-yTl"
      }
    },
    {
      "cell_type": "code",
      "source": [
        "print(tuple1[2])"
      ],
      "metadata": {
        "colab": {
          "base_uri": "https://localhost:8080/"
        },
        "id": "wjmFNA5O-1JF",
        "outputId": "13bcf77c-fc96-4e88-b623-65ebb2b1b8bb"
      },
      "execution_count": 84,
      "outputs": [
        {
          "output_type": "stream",
          "name": "stdout",
          "text": [
            "2\n"
          ]
        }
      ]
    },
    {
      "cell_type": "markdown",
      "source": [
        "Tuple Operations"
      ],
      "metadata": {
        "id": "SX8WC5Ur-7Gh"
      }
    },
    {
      "cell_type": "code",
      "source": [
        "len(tuple1)"
      ],
      "metadata": {
        "colab": {
          "base_uri": "https://localhost:8080/"
        },
        "id": "VSEU_adK-8r7",
        "outputId": "2ad88950-132c-4a24-d956-389fc1040297"
      },
      "execution_count": 85,
      "outputs": [
        {
          "output_type": "execute_result",
          "data": {
            "text/plain": [
              "5"
            ]
          },
          "metadata": {},
          "execution_count": 85
        }
      ]
    },
    {
      "cell_type": "code",
      "source": [
        "new_tuple = tuple1 + tuple2\n",
        "print(new_tuple)"
      ],
      "metadata": {
        "colab": {
          "base_uri": "https://localhost:8080/"
        },
        "id": "bYDHwHcF_CJK",
        "outputId": "4d32f961-8240-4063-d9a0-4e747a8ffd53"
      },
      "execution_count": 86,
      "outputs": [
        {
          "output_type": "stream",
          "name": "stdout",
          "text": [
            "('Shravya', 'Cheery', 2, 4, 6.8, 4, 5, 6, 'Sushravya')\n"
          ]
        }
      ]
    },
    {
      "cell_type": "code",
      "source": [
        "print(tuple2)\n",
        "print(tuple2*3)"
      ],
      "metadata": {
        "colab": {
          "base_uri": "https://localhost:8080/"
        },
        "id": "y6c-qbDK_OUH",
        "outputId": "72e8a181-6ac7-49b7-c3a5-2b694db25ddc"
      },
      "execution_count": 88,
      "outputs": [
        {
          "output_type": "stream",
          "name": "stdout",
          "text": [
            "(4, 5, 6, 'Sushravya')\n",
            "(4, 5, 6, 'Sushravya', 4, 5, 6, 'Sushravya', 4, 5, 6, 'Sushravya')\n"
          ]
        }
      ]
    },
    {
      "cell_type": "code",
      "source": [
        "print(\"Shravya\" in new_tuple)"
      ],
      "metadata": {
        "colab": {
          "base_uri": "https://localhost:8080/"
        },
        "id": "H5Fetiki_Y7N",
        "outputId": "bdac58fe-ef2e-41be-a2af-75a0bd7c08f0"
      },
      "execution_count": 89,
      "outputs": [
        {
          "output_type": "stream",
          "name": "stdout",
          "text": [
            "True\n"
          ]
        }
      ]
    },
    {
      "cell_type": "markdown",
      "source": [
        "Slicing"
      ],
      "metadata": {
        "id": "1SrqSO84_gD6"
      }
    },
    {
      "cell_type": "code",
      "source": [
        "print(tuple1)\n",
        "print(tuple1[1:4])"
      ],
      "metadata": {
        "colab": {
          "base_uri": "https://localhost:8080/"
        },
        "id": "5IqyU5qm_f3H",
        "outputId": "5db3e469-8ea4-40a4-8432-38681455c022"
      },
      "execution_count": 91,
      "outputs": [
        {
          "output_type": "stream",
          "name": "stdout",
          "text": [
            "('Shravya', 'Cheery', 2, 4, 6.8)\n",
            "('Cheery', 2, 4)\n"
          ]
        }
      ]
    },
    {
      "cell_type": "code",
      "source": [
        "print(tuple1[::-1])"
      ],
      "metadata": {
        "colab": {
          "base_uri": "https://localhost:8080/"
        },
        "id": "FUe4oipL_p28",
        "outputId": "fa30ded6-0940-414f-ea1d-cef4124459bb"
      },
      "execution_count": 92,
      "outputs": [
        {
          "output_type": "stream",
          "name": "stdout",
          "text": [
            "(6.8, 4, 2, 'Cheery', 'Shravya')\n"
          ]
        }
      ]
    },
    {
      "cell_type": "markdown",
      "source": [
        "**Sets**"
      ],
      "metadata": {
        "id": "3sdzTmPS_v6S"
      }
    },
    {
      "cell_type": "code",
      "source": [
        "#creating\n",
        "\n",
        "set1 = {1,2,3,4,5,6}\n",
        "print(set1)"
      ],
      "metadata": {
        "colab": {
          "base_uri": "https://localhost:8080/"
        },
        "id": "yTiGScbC_zH3",
        "outputId": "cf670dec-791b-459d-8fca-17585227ce6a"
      },
      "execution_count": 93,
      "outputs": [
        {
          "output_type": "stream",
          "name": "stdout",
          "text": [
            "{1, 2, 3, 4, 5, 6}\n"
          ]
        }
      ]
    },
    {
      "cell_type": "code",
      "source": [
        "type(set1)"
      ],
      "metadata": {
        "colab": {
          "base_uri": "https://localhost:8080/"
        },
        "id": "weyrrXMe__WL",
        "outputId": "211162c6-e479-49a7-d818-cef8ba866383"
      },
      "execution_count": 94,
      "outputs": [
        {
          "output_type": "execute_result",
          "data": {
            "text/plain": [
              "set"
            ]
          },
          "metadata": {},
          "execution_count": 94
        }
      ]
    },
    {
      "cell_type": "code",
      "source": [
        "empty = set()\n",
        "type(empty)"
      ],
      "metadata": {
        "colab": {
          "base_uri": "https://localhost:8080/"
        },
        "id": "IvBTn2Q7ABvC",
        "outputId": "71cbe012-f0e8-4062-8a7b-8c79429d2bfc"
      },
      "execution_count": 95,
      "outputs": [
        {
          "output_type": "execute_result",
          "data": {
            "text/plain": [
              "set"
            ]
          },
          "metadata": {},
          "execution_count": 95
        }
      ]
    },
    {
      "cell_type": "markdown",
      "source": [
        "Set Operations"
      ],
      "metadata": {
        "id": "PfYq0-JyAI0L"
      }
    },
    {
      "cell_type": "code",
      "source": [
        "set1"
      ],
      "metadata": {
        "colab": {
          "base_uri": "https://localhost:8080/"
        },
        "id": "ObpN8nG3AK16",
        "outputId": "4b7fde3a-ebaa-4298-cdfe-3b94d99212f7"
      },
      "execution_count": 97,
      "outputs": [
        {
          "output_type": "execute_result",
          "data": {
            "text/plain": [
              "{1, 2, 3, 4, 5, 6}"
            ]
          },
          "metadata": {},
          "execution_count": 97
        }
      ]
    },
    {
      "cell_type": "code",
      "source": [
        "set1.add(98)\n",
        "print(set1)"
      ],
      "metadata": {
        "colab": {
          "base_uri": "https://localhost:8080/"
        },
        "id": "69T3Zw1zANUz",
        "outputId": "a433e061-ac93-47f2-94a8-8e0b44dc6cd4"
      },
      "execution_count": 98,
      "outputs": [
        {
          "output_type": "stream",
          "name": "stdout",
          "text": [
            "{1, 2, 3, 4, 5, 6, 98}\n"
          ]
        }
      ]
    },
    {
      "cell_type": "code",
      "source": [
        "set1.update([10,11,12])\n",
        "print(set1)"
      ],
      "metadata": {
        "colab": {
          "base_uri": "https://localhost:8080/"
        },
        "id": "vI8uauAyAWW2",
        "outputId": "67f43632-a0a0-4017-9885-bd137bd7ee7a"
      },
      "execution_count": 99,
      "outputs": [
        {
          "output_type": "stream",
          "name": "stdout",
          "text": [
            "{1, 2, 3, 4, 5, 6, 10, 11, 12, 98}\n"
          ]
        }
      ]
    },
    {
      "cell_type": "code",
      "source": [
        "set1.remove(10)\n",
        "print(set1)"
      ],
      "metadata": {
        "colab": {
          "base_uri": "https://localhost:8080/"
        },
        "id": "KZkJ7BlrAiSo",
        "outputId": "93216019-cd22-4ed0-a251-e280008a5b24"
      },
      "execution_count": 100,
      "outputs": [
        {
          "output_type": "stream",
          "name": "stdout",
          "text": [
            "{1, 2, 3, 4, 5, 6, 11, 12, 98}\n"
          ]
        }
      ]
    },
    {
      "cell_type": "code",
      "source": [
        "set1.discard(98)\n",
        "print(set1)"
      ],
      "metadata": {
        "colab": {
          "base_uri": "https://localhost:8080/"
        },
        "id": "zG4v7hM6AmBb",
        "outputId": "ed88f0a1-eab4-4806-e134-4e9e7174015e"
      },
      "execution_count": 101,
      "outputs": [
        {
          "output_type": "stream",
          "name": "stdout",
          "text": [
            "{1, 2, 3, 4, 5, 6, 11, 12}\n"
          ]
        }
      ]
    },
    {
      "cell_type": "code",
      "source": [
        "set1.clear()\n",
        "print(set1)"
      ],
      "metadata": {
        "colab": {
          "base_uri": "https://localhost:8080/"
        },
        "id": "YZCTMKhKAtib",
        "outputId": "281ee329-81fc-40a9-ab10-47ac0e8f7e8d"
      },
      "execution_count": 102,
      "outputs": [
        {
          "output_type": "stream",
          "name": "stdout",
          "text": [
            "set()\n"
          ]
        }
      ]
    },
    {
      "cell_type": "markdown",
      "source": [
        "Set Operations"
      ],
      "metadata": {
        "id": "tBIs3FGGAyub"
      }
    },
    {
      "cell_type": "code",
      "source": [
        "#Union\n",
        "\n",
        "set1 = {1,2,3}\n",
        "set2 = {3,4,5}\n",
        "print(set1|set2)\n",
        "print(set1.union(set2))"
      ],
      "metadata": {
        "colab": {
          "base_uri": "https://localhost:8080/"
        },
        "id": "HGOgPW6iA0J3",
        "outputId": "3cf4b079-1f95-4d80-c6de-2930831d0601"
      },
      "execution_count": 103,
      "outputs": [
        {
          "output_type": "stream",
          "name": "stdout",
          "text": [
            "{1, 2, 3, 4, 5}\n",
            "{1, 2, 3, 4, 5}\n"
          ]
        }
      ]
    },
    {
      "cell_type": "code",
      "source": [
        "#intersection\n",
        "\n",
        "print(set1&set2)\n",
        "print(set1.intersection(set2))"
      ],
      "metadata": {
        "colab": {
          "base_uri": "https://localhost:8080/"
        },
        "id": "xENoHNFEBIrf",
        "outputId": "399129bb-48fe-4042-8774-8480990b802d"
      },
      "execution_count": 104,
      "outputs": [
        {
          "output_type": "stream",
          "name": "stdout",
          "text": [
            "{3}\n",
            "{3}\n"
          ]
        }
      ]
    },
    {
      "cell_type": "code",
      "source": [
        "#Difference\n",
        "print(set1-set2)\n",
        "print(set1.difference(set2))"
      ],
      "metadata": {
        "colab": {
          "base_uri": "https://localhost:8080/"
        },
        "id": "jd1OVnznBYQs",
        "outputId": "32769488-d9bd-4b91-ab98-cd32bf29355f"
      },
      "execution_count": 105,
      "outputs": [
        {
          "output_type": "stream",
          "name": "stdout",
          "text": [
            "{1, 2}\n",
            "{1, 2}\n"
          ]
        }
      ]
    },
    {
      "cell_type": "code",
      "source": [
        "print(set2-set1)"
      ],
      "metadata": {
        "colab": {
          "base_uri": "https://localhost:8080/"
        },
        "id": "q0WLrgaUBpL8",
        "outputId": "3c8c47ef-82ae-4c2d-eacb-ad7cf950c489"
      },
      "execution_count": 106,
      "outputs": [
        {
          "output_type": "stream",
          "name": "stdout",
          "text": [
            "{4, 5}\n"
          ]
        }
      ]
    },
    {
      "cell_type": "code",
      "source": [
        "#symmetric_difference\n",
        "print(set1^set2)\n",
        "print(set1.symmetric_difference(set2))"
      ],
      "metadata": {
        "colab": {
          "base_uri": "https://localhost:8080/"
        },
        "id": "pgqbInHwBu7x",
        "outputId": "f8b3d49a-793b-41c1-8ac3-79c6debf8231"
      },
      "execution_count": 107,
      "outputs": [
        {
          "output_type": "stream",
          "name": "stdout",
          "text": [
            "{1, 2, 4, 5}\n",
            "{1, 2, 4, 5}\n"
          ]
        }
      ]
    },
    {
      "cell_type": "markdown",
      "source": [
        "Dictionary"
      ],
      "metadata": {
        "id": "CDJcb5nMB8LX"
      }
    },
    {
      "cell_type": "code",
      "source": [
        "dict1 = {\n",
        "    \"101\":\"Shravya\",\n",
        "    \"102\":\"Cheery\",\n",
        "    \"103\":\"Ram\"\n",
        "}\n",
        "print(dict1)\n",
        "type(dict1)"
      ],
      "metadata": {
        "colab": {
          "base_uri": "https://localhost:8080/"
        },
        "id": "ZKzmxRmfB-fR",
        "outputId": "e3f4979c-1eda-44ec-e645-ef641f6e692d"
      },
      "execution_count": 108,
      "outputs": [
        {
          "output_type": "stream",
          "name": "stdout",
          "text": [
            "{'101': 'Shravya', '102': 'Cheery', '103': 'Ram'}\n"
          ]
        },
        {
          "output_type": "execute_result",
          "data": {
            "text/plain": [
              "dict"
            ]
          },
          "metadata": {},
          "execution_count": 108
        }
      ]
    },
    {
      "cell_type": "code",
      "source": [
        "dict3 = dict(name=\"Seeta\", age=26, city = \"Bengaluru\")\n",
        "print(dict3)\n",
        "type(dict3)"
      ],
      "metadata": {
        "colab": {
          "base_uri": "https://localhost:8080/"
        },
        "id": "3fD3b5-WCaTV",
        "outputId": "426e04df-9604-4f52-a046-134db001ade7"
      },
      "execution_count": 109,
      "outputs": [
        {
          "output_type": "stream",
          "name": "stdout",
          "text": [
            "{'name': 'Seeta', 'age': 26, 'city': 'Bengaluru'}\n"
          ]
        },
        {
          "output_type": "execute_result",
          "data": {
            "text/plain": [
              "dict"
            ]
          },
          "metadata": {},
          "execution_count": 109
        }
      ]
    },
    {
      "cell_type": "markdown",
      "source": [
        "Access the data elements"
      ],
      "metadata": {
        "id": "CLvv5RoxCs5e"
      }
    },
    {
      "cell_type": "code",
      "source": [
        "print(dict1[\"101\"])"
      ],
      "metadata": {
        "colab": {
          "base_uri": "https://localhost:8080/"
        },
        "id": "ZIcrVqajCspM",
        "outputId": "17346381-612e-47f4-c0d6-8dd8fe1fade5"
      },
      "execution_count": 110,
      "outputs": [
        {
          "output_type": "stream",
          "name": "stdout",
          "text": [
            "Shravya\n"
          ]
        }
      ]
    },
    {
      "cell_type": "code",
      "source": [
        "print(dict1.get(\"107\"))"
      ],
      "metadata": {
        "colab": {
          "base_uri": "https://localhost:8080/"
        },
        "id": "Y7PU4myfCykw",
        "outputId": "18560631-38fb-46c0-c719-18bac86b0d40"
      },
      "execution_count": 113,
      "outputs": [
        {
          "output_type": "stream",
          "name": "stdout",
          "text": [
            "None\n"
          ]
        }
      ]
    },
    {
      "cell_type": "code",
      "source": [
        "print(dict1.get(\"106\",\"Not Found\"))"
      ],
      "metadata": {
        "colab": {
          "base_uri": "https://localhost:8080/"
        },
        "id": "H3PElx2VC3BY",
        "outputId": "b5ae8609-fa51-466d-c8f3-700768e09ca0"
      },
      "execution_count": 114,
      "outputs": [
        {
          "output_type": "stream",
          "name": "stdout",
          "text": [
            "Not Found\n"
          ]
        }
      ]
    },
    {
      "cell_type": "markdown",
      "source": [
        "Modifying the Dictionary"
      ],
      "metadata": {
        "id": "BIqpxTVlDM9O"
      }
    },
    {
      "cell_type": "code",
      "source": [
        "dict1"
      ],
      "metadata": {
        "colab": {
          "base_uri": "https://localhost:8080/"
        },
        "id": "lIgNVH8yDO55",
        "outputId": "37871e76-bee2-45cb-91a4-f874b75679db"
      },
      "execution_count": 115,
      "outputs": [
        {
          "output_type": "execute_result",
          "data": {
            "text/plain": [
              "{'101': 'Shravya', '102': 'Cheery', '103': 'Ram'}"
            ]
          },
          "metadata": {},
          "execution_count": 115
        }
      ]
    },
    {
      "cell_type": "code",
      "source": [
        "dict1[\"101\"] = \"Sushravya\"\n",
        "print(dict1)"
      ],
      "metadata": {
        "colab": {
          "base_uri": "https://localhost:8080/"
        },
        "id": "kRwUTY1cDS16",
        "outputId": "0ee072e4-8432-453d-afd8-4aa7b4647c1e"
      },
      "execution_count": 116,
      "outputs": [
        {
          "output_type": "stream",
          "name": "stdout",
          "text": [
            "{'101': 'Sushravya', '102': 'Cheery', '103': 'Ram'}\n"
          ]
        }
      ]
    },
    {
      "cell_type": "code",
      "source": [
        "dict1[\"103\"]=\"Seeta\"\n",
        "print(dict1)"
      ],
      "metadata": {
        "colab": {
          "base_uri": "https://localhost:8080/"
        },
        "id": "SrNo3q8GDYUe",
        "outputId": "dbc2d43a-e799-4c03-a471-d79df34ca87a"
      },
      "execution_count": 117,
      "outputs": [
        {
          "output_type": "stream",
          "name": "stdout",
          "text": [
            "{'101': 'Sushravya', '102': 'Cheery', '103': 'Seeta'}\n"
          ]
        }
      ]
    },
    {
      "cell_type": "markdown",
      "source": [
        "Remove the items"
      ],
      "metadata": {
        "id": "Riv4hyxnDhRk"
      }
    },
    {
      "cell_type": "code",
      "source": [
        "del dict1[\"102\"]"
      ],
      "metadata": {
        "id": "8mLB6fCMDid0"
      },
      "execution_count": 118,
      "outputs": []
    },
    {
      "cell_type": "code",
      "source": [
        "dict1"
      ],
      "metadata": {
        "colab": {
          "base_uri": "https://localhost:8080/"
        },
        "id": "0PgzuZ8cD7f-",
        "outputId": "0bf7b07b-0326-4d8c-d3cc-c34d5da40f29"
      },
      "execution_count": 119,
      "outputs": [
        {
          "output_type": "execute_result",
          "data": {
            "text/plain": [
              "{'101': 'Sushravya', '103': 'Seeta'}"
            ]
          },
          "metadata": {},
          "execution_count": 119
        }
      ]
    },
    {
      "cell_type": "code",
      "source": [
        "dict1 = {\n",
        "    \"101\":\"Shravya\",\n",
        "    \"102\":\"Cheery\",\n",
        "}\n",
        "print(dict1)\n"
      ],
      "metadata": {
        "colab": {
          "base_uri": "https://localhost:8080/"
        },
        "id": "QrhwjvzbEbCN",
        "outputId": "048982d0-0d89-4a7d-be85-da65f0ac2ae2"
      },
      "execution_count": 120,
      "outputs": [
        {
          "output_type": "stream",
          "name": "stdout",
          "text": [
            "{'101': 'Shravya', '102': 'Cheery'}\n"
          ]
        }
      ]
    },
    {
      "cell_type": "code",
      "source": [
        "b = dict1.pop(\"101\")"
      ],
      "metadata": {
        "id": "RZ5yrT8cEskk"
      },
      "execution_count": 121,
      "outputs": []
    },
    {
      "cell_type": "code",
      "source": [
        "dict1\n",
        "len(dict1)"
      ],
      "metadata": {
        "colab": {
          "base_uri": "https://localhost:8080/"
        },
        "id": "8DaJM9F4E-vJ",
        "outputId": "70ed478b-0eb6-4e01-ed48-cf7758938546"
      },
      "execution_count": 125,
      "outputs": [
        {
          "output_type": "execute_result",
          "data": {
            "text/plain": [
              "0"
            ]
          },
          "metadata": {},
          "execution_count": 125
        }
      ]
    },
    {
      "cell_type": "code",
      "source": [
        "dict1.clear()\n",
        "dict1"
      ],
      "metadata": {
        "colab": {
          "base_uri": "https://localhost:8080/"
        },
        "id": "It5zRYvyFJPS",
        "outputId": "03020129-7051-4165-beb6-2502f3b0df46"
      },
      "execution_count": 123,
      "outputs": [
        {
          "output_type": "execute_result",
          "data": {
            "text/plain": [
              "{}"
            ]
          },
          "metadata": {},
          "execution_count": 123
        }
      ]
    },
    {
      "cell_type": "code",
      "source": [
        "len(dict1)"
      ],
      "metadata": {
        "colab": {
          "base_uri": "https://localhost:8080/"
        },
        "id": "V1TxgklOFNBU",
        "outputId": "c03fb2c1-aa6b-4a49-e8fe-34489b9d9725"
      },
      "execution_count": 126,
      "outputs": [
        {
          "output_type": "execute_result",
          "data": {
            "text/plain": [
              "0"
            ]
          },
          "metadata": {},
          "execution_count": 126
        }
      ]
    },
    {
      "cell_type": "markdown",
      "source": [
        "Popitem()"
      ],
      "metadata": {
        "id": "bZqntslyFVFO"
      }
    },
    {
      "cell_type": "code",
      "source": [
        "abc = {1:\"apple\",2:\"Banana\",3:\"orange\"}\n",
        "print(abc)"
      ],
      "metadata": {
        "colab": {
          "base_uri": "https://localhost:8080/"
        },
        "id": "6tP_BXoRFWgG",
        "outputId": "c5c6d8ce-966e-4674-c119-89ed588e8608"
      },
      "execution_count": 127,
      "outputs": [
        {
          "output_type": "stream",
          "name": "stdout",
          "text": [
            "{1: 'apple', 2: 'Banana', 3: 'orange'}\n"
          ]
        }
      ]
    },
    {
      "cell_type": "code",
      "source": [
        "abc[\"4\"] = \"dog\"\n",
        "print(abc)"
      ],
      "metadata": {
        "colab": {
          "base_uri": "https://localhost:8080/"
        },
        "id": "9gNvnNOGFfuS",
        "outputId": "d6ff894f-3824-4f8d-f1e6-f629ddca202f"
      },
      "execution_count": 128,
      "outputs": [
        {
          "output_type": "stream",
          "name": "stdout",
          "text": [
            "{1: 'apple', 2: 'Banana', 3: 'orange', '4': 'dog'}\n"
          ]
        }
      ]
    },
    {
      "cell_type": "code",
      "source": [
        "abc.popitem()"
      ],
      "metadata": {
        "colab": {
          "base_uri": "https://localhost:8080/"
        },
        "id": "RAz6ncKHFnsG",
        "outputId": "d45bc27f-87b2-4bb9-b336-0839c828efde"
      },
      "execution_count": 129,
      "outputs": [
        {
          "output_type": "execute_result",
          "data": {
            "text/plain": [
              "('4', 'dog')"
            ]
          },
          "metadata": {},
          "execution_count": 129
        }
      ]
    },
    {
      "cell_type": "code",
      "source": [
        "print(abc)"
      ],
      "metadata": {
        "colab": {
          "base_uri": "https://localhost:8080/"
        },
        "id": "O3grVQsmFreT",
        "outputId": "a849b507-ea0d-46bd-ec70-ffd9dbc9c314"
      },
      "execution_count": 130,
      "outputs": [
        {
          "output_type": "stream",
          "name": "stdout",
          "text": [
            "{1: 'apple', 2: 'Banana', 3: 'orange'}\n"
          ]
        }
      ]
    },
    {
      "cell_type": "markdown",
      "source": [
        "Dictionary Methods"
      ],
      "metadata": {
        "id": "HbBN0RY0FzUY"
      }
    },
    {
      "cell_type": "code",
      "source": [
        "print(abc.keys())"
      ],
      "metadata": {
        "colab": {
          "base_uri": "https://localhost:8080/"
        },
        "id": "bxfEH0-vF2Ak",
        "outputId": "34647ab0-293c-41fa-9302-05ad75f7e915"
      },
      "execution_count": 131,
      "outputs": [
        {
          "output_type": "stream",
          "name": "stdout",
          "text": [
            "dict_keys([1, 2, 3])\n"
          ]
        }
      ]
    },
    {
      "cell_type": "code",
      "source": [
        "print(abc.values())"
      ],
      "metadata": {
        "colab": {
          "base_uri": "https://localhost:8080/"
        },
        "id": "g6YKJWJYF-9P",
        "outputId": "b0624def-6c4b-4240-d3dc-eff32a641e56"
      },
      "execution_count": 132,
      "outputs": [
        {
          "output_type": "stream",
          "name": "stdout",
          "text": [
            "dict_values(['apple', 'Banana', 'orange'])\n"
          ]
        }
      ]
    },
    {
      "cell_type": "code",
      "source": [
        "print(abc.items())"
      ],
      "metadata": {
        "colab": {
          "base_uri": "https://localhost:8080/"
        },
        "id": "6KBU_A_8GC5z",
        "outputId": "cfcab548-3780-4a75-ddbb-97d7570de01f"
      },
      "execution_count": 133,
      "outputs": [
        {
          "output_type": "stream",
          "name": "stdout",
          "text": [
            "dict_items([(1, 'apple'), (2, 'Banana'), (3, 'orange')])\n"
          ]
        }
      ]
    },
    {
      "cell_type": "markdown",
      "source": [
        "Update"
      ],
      "metadata": {
        "id": "nc0Uhbv7GGn3"
      }
    },
    {
      "cell_type": "code",
      "source": [
        "abc.update({4:\"disk\",5:\"storage\",6:\"Cloud\"})\n",
        "abc"
      ],
      "metadata": {
        "colab": {
          "base_uri": "https://localhost:8080/"
        },
        "id": "wEcWOF38GH4H",
        "outputId": "42cda518-8997-4641-b316-7c0ff1445e01"
      },
      "execution_count": 134,
      "outputs": [
        {
          "output_type": "execute_result",
          "data": {
            "text/plain": [
              "{1: 'apple', 2: 'Banana', 3: 'orange', 4: 'disk', 5: 'storage', 6: 'Cloud'}"
            ]
          },
          "metadata": {},
          "execution_count": 134
        }
      ]
    },
    {
      "cell_type": "code",
      "source": [
        "xyz = {7:\"Flag\",8:\"flower\"}\n",
        "abc.update(xyz)\n",
        "abc"
      ],
      "metadata": {
        "colab": {
          "base_uri": "https://localhost:8080/"
        },
        "id": "7z45C1E1GVKQ",
        "outputId": "fa5ed77d-debe-41c2-ed64-5a0690fb3283"
      },
      "execution_count": 135,
      "outputs": [
        {
          "output_type": "execute_result",
          "data": {
            "text/plain": [
              "{1: 'apple',\n",
              " 2: 'Banana',\n",
              " 3: 'orange',\n",
              " 4: 'disk',\n",
              " 5: 'storage',\n",
              " 6: 'Cloud',\n",
              " 7: 'Flag',\n",
              " 8: 'flower'}"
            ]
          },
          "metadata": {},
          "execution_count": 135
        }
      ]
    }
  ]
}