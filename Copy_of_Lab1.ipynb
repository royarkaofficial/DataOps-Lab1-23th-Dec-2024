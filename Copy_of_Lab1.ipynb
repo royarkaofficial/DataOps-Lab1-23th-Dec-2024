{
  "nbformat": 4,
  "nbformat_minor": 0,
  "metadata": {
    "colab": {
      "provenance": [],
      "include_colab_link": true
    },
    "kernelspec": {
      "name": "python3",
      "display_name": "Python 3"
    },
    "language_info": {
      "name": "python"
    }
  },
  "cells": [
    {
      "cell_type": "markdown",
      "metadata": {
        "id": "view-in-github",
        "colab_type": "text"
      },
      "source": [
        "<a href=\"https://colab.research.google.com/github/royarkaofficial/DataOps-Lab1-23th-Dec-2024/blob/main/Copy_of_Lab1.ipynb\" target=\"_parent\"><img src=\"https://colab.research.google.com/assets/colab-badge.svg\" alt=\"Open In Colab\"/></a>"
      ]
    },
    {
      "cell_type": "markdown",
      "source": [
        "**Variable**"
      ],
      "metadata": {
        "id": "2SCSVnLP-XHn"
      }
    },
    {
      "cell_type": "code",
      "source": [
        "age1 = 25"
      ],
      "metadata": {
        "id": "nJNs5g1y4hLV"
      },
      "execution_count": null,
      "outputs": []
    },
    {
      "cell_type": "code",
      "source": [
        "age = \"20\""
      ],
      "metadata": {
        "id": "PoZfizK--t1F"
      },
      "execution_count": null,
      "outputs": []
    },
    {
      "cell_type": "code",
      "source": [
        "print (age)"
      ],
      "metadata": {
        "colab": {
          "base_uri": "https://localhost:8080/"
        },
        "id": "NxM0oGPB-2k5",
        "outputId": "b5516b1f-965d-4920-900c-f1f7a9a58f9e"
      },
      "execution_count": null,
      "outputs": [
        {
          "output_type": "stream",
          "name": "stdout",
          "text": [
            "20\n"
          ]
        }
      ]
    },
    {
      "cell_type": "code",
      "source": [
        "print(age1)"
      ],
      "metadata": {
        "colab": {
          "base_uri": "https://localhost:8080/"
        },
        "id": "KxSZYaMP-9yj",
        "outputId": "238e31ff-1490-4155-a5e0-c8057a4b73cd"
      },
      "execution_count": null,
      "outputs": [
        {
          "output_type": "stream",
          "name": "stdout",
          "text": [
            "25\n"
          ]
        }
      ]
    },
    {
      "cell_type": "code",
      "source": [
        "name = \"Cherry\""
      ],
      "metadata": {
        "id": "AlN05vNw_PCk"
      },
      "execution_count": null,
      "outputs": []
    },
    {
      "cell_type": "code",
      "source": [
        "type(name)"
      ],
      "metadata": {
        "colab": {
          "base_uri": "https://localhost:8080/"
        },
        "id": "DsNGftCk_ZhG",
        "outputId": "4f14347e-8cba-4a3b-eaad-102f82dd7ae7"
      },
      "execution_count": null,
      "outputs": [
        {
          "output_type": "execute_result",
          "data": {
            "text/plain": [
              "str"
            ]
          },
          "metadata": {},
          "execution_count": 6
        }
      ]
    },
    {
      "cell_type": "code",
      "source": [
        "type(age1)"
      ],
      "metadata": {
        "colab": {
          "base_uri": "https://localhost:8080/"
        },
        "id": "33k4apce_hAb",
        "outputId": "fb8a5a94-7789-49e6-9622-8497274dcf87"
      },
      "execution_count": null,
      "outputs": [
        {
          "output_type": "execute_result",
          "data": {
            "text/plain": [
              "int"
            ]
          },
          "metadata": {},
          "execution_count": 7
        }
      ]
    },
    {
      "cell_type": "markdown",
      "source": [
        "Updating the variables"
      ],
      "metadata": {
        "id": "Urfy0flv_ufL"
      }
    },
    {
      "cell_type": "code",
      "source": [
        "count = 10\n",
        "count = count + 5"
      ],
      "metadata": {
        "id": "LKgJ93Ii_1Kl"
      },
      "execution_count": null,
      "outputs": []
    },
    {
      "cell_type": "code",
      "source": [
        "count\n"
      ],
      "metadata": {
        "colab": {
          "base_uri": "https://localhost:8080/"
        },
        "id": "7a6naNxnAAsL",
        "outputId": "78aea5f2-0feb-41da-9d7f-234406820019"
      },
      "execution_count": null,
      "outputs": [
        {
          "output_type": "execute_result",
          "data": {
            "text/plain": [
              "15"
            ]
          },
          "metadata": {},
          "execution_count": 9
        }
      ]
    },
    {
      "cell_type": "code",
      "source": [
        "count = 25\n",
        "count += 5"
      ],
      "metadata": {
        "id": "TIqsB8kmAIR6"
      },
      "execution_count": null,
      "outputs": []
    },
    {
      "cell_type": "code",
      "source": [
        "count"
      ],
      "metadata": {
        "colab": {
          "base_uri": "https://localhost:8080/"
        },
        "id": "6xGMGVjOAyox",
        "outputId": "a3b8bb9d-011f-40f7-dd14-a86b2d026954"
      },
      "execution_count": null,
      "outputs": [
        {
          "output_type": "execute_result",
          "data": {
            "text/plain": [
              "30"
            ]
          },
          "metadata": {},
          "execution_count": 11
        }
      ]
    },
    {
      "cell_type": "code",
      "source": [
        "count -= 5"
      ],
      "metadata": {
        "id": "9LIQV0RrA2sf"
      },
      "execution_count": null,
      "outputs": []
    },
    {
      "cell_type": "code",
      "source": [
        "count"
      ],
      "metadata": {
        "colab": {
          "base_uri": "https://localhost:8080/"
        },
        "id": "b4e2daN8A5Yc",
        "outputId": "155d3aeb-1e18-4ceb-ba14-ec736534126d"
      },
      "execution_count": null,
      "outputs": [
        {
          "output_type": "execute_result",
          "data": {
            "text/plain": [
              "25"
            ]
          },
          "metadata": {},
          "execution_count": 13
        }
      ]
    },
    {
      "cell_type": "code",
      "source": [
        "count *= 2"
      ],
      "metadata": {
        "id": "a7oAKqKgBDTV"
      },
      "execution_count": null,
      "outputs": []
    },
    {
      "cell_type": "code",
      "source": [
        "count"
      ],
      "metadata": {
        "colab": {
          "base_uri": "https://localhost:8080/"
        },
        "id": "vYmgd-hFBJtx",
        "outputId": "304f9dad-fb63-4f5e-9c66-44cd8f884c0c"
      },
      "execution_count": null,
      "outputs": [
        {
          "output_type": "execute_result",
          "data": {
            "text/plain": [
              "50"
            ]
          },
          "metadata": {},
          "execution_count": 15
        }
      ]
    },
    {
      "cell_type": "code",
      "source": [
        "count /= 3"
      ],
      "metadata": {
        "id": "-ZL0kPuFBL2v"
      },
      "execution_count": null,
      "outputs": []
    },
    {
      "cell_type": "code",
      "source": [
        "count"
      ],
      "metadata": {
        "colab": {
          "base_uri": "https://localhost:8080/"
        },
        "id": "ZiAIX42BBUjj",
        "outputId": "0d1f6c5e-d7f7-4031-f975-eccffced2f1b"
      },
      "execution_count": null,
      "outputs": [
        {
          "output_type": "execute_result",
          "data": {
            "text/plain": [
              "16.666666666666668"
            ]
          },
          "metadata": {},
          "execution_count": 17
        }
      ]
    },
    {
      "cell_type": "markdown",
      "source": [
        "Multiple variable Assignments"
      ],
      "metadata": {
        "id": "LwmVyTS0Biau"
      }
    },
    {
      "cell_type": "code",
      "source": [
        "a , b, c, d = 10 , 20 , 30 , 40"
      ],
      "metadata": {
        "id": "S3_26ifUBlgb"
      },
      "execution_count": null,
      "outputs": []
    },
    {
      "cell_type": "code",
      "source": [
        "print(a)\n",
        "print(b)\n",
        "print(c)\n",
        "print(d)"
      ],
      "metadata": {
        "colab": {
          "base_uri": "https://localhost:8080/"
        },
        "id": "FB71V_-HBvnK",
        "outputId": "98294dff-716b-4700-85fb-8c55573d61b8"
      },
      "execution_count": null,
      "outputs": [
        {
          "output_type": "stream",
          "name": "stdout",
          "text": [
            "10\n",
            "20\n",
            "30\n",
            "40\n"
          ]
        }
      ]
    },
    {
      "cell_type": "code",
      "source": [
        "x = y = z= s= 10000"
      ],
      "metadata": {
        "id": "xFH8MhH8B3jb"
      },
      "execution_count": null,
      "outputs": []
    },
    {
      "cell_type": "code",
      "source": [
        "print(x)\n",
        "print(y)\n",
        "print(z)\n",
        "print(s)"
      ],
      "metadata": {
        "colab": {
          "base_uri": "https://localhost:8080/"
        },
        "id": "byM8Z5nzCDIX",
        "outputId": "3a7d3930-20f7-4ad5-f740-2864d26f68fc"
      },
      "execution_count": null,
      "outputs": [
        {
          "output_type": "stream",
          "name": "stdout",
          "text": [
            "10000\n",
            "10000\n",
            "10000\n",
            "10000\n"
          ]
        }
      ]
    },
    {
      "cell_type": "markdown",
      "source": [
        "Dynmaic Typing"
      ],
      "metadata": {
        "id": "MxTqo4UgCXSN"
      }
    },
    {
      "cell_type": "code",
      "source": [
        "x = \"hello\"\n",
        "x = 15"
      ],
      "metadata": {
        "id": "jUzAZb1vCZ1M"
      },
      "execution_count": null,
      "outputs": []
    },
    {
      "cell_type": "code",
      "source": [
        "type(x)"
      ],
      "metadata": {
        "colab": {
          "base_uri": "https://localhost:8080/"
        },
        "id": "HPtQOLthCe_l",
        "outputId": "115339ad-48ac-43fb-a1a5-fbd4884935a6"
      },
      "execution_count": null,
      "outputs": [
        {
          "output_type": "execute_result",
          "data": {
            "text/plain": [
              "int"
            ]
          },
          "metadata": {},
          "execution_count": 23
        }
      ]
    },
    {
      "cell_type": "markdown",
      "source": [
        "Input Output Operators"
      ],
      "metadata": {
        "id": "vOEqEnYEC-7J"
      }
    },
    {
      "cell_type": "code",
      "source": [
        " a = input()\n",
        " print(a)"
      ],
      "metadata": {
        "colab": {
          "base_uri": "https://localhost:8080/"
        },
        "id": "5ddmhg6rDET8",
        "outputId": "7b51ab14-35f2-448f-cf95-e8f899a16890"
      },
      "execution_count": null,
      "outputs": [
        {
          "output_type": "stream",
          "name": "stdout",
          "text": [
            "50\n",
            "50\n"
          ]
        }
      ]
    },
    {
      "cell_type": "code",
      "source": [
        "b = input(\"Enter your name: \")\n",
        "print(b)"
      ],
      "metadata": {
        "colab": {
          "base_uri": "https://localhost:8080/"
        },
        "id": "XLJwHIRnDcvS",
        "outputId": "c866b3fa-127b-4b02-c84b-af81f10811d1"
      },
      "execution_count": null,
      "outputs": [
        {
          "output_type": "stream",
          "name": "stdout",
          "text": [
            "Enter your name: 10\n",
            "10\n"
          ]
        }
      ]
    },
    {
      "cell_type": "code",
      "source": [
        "height = float(input(\"Enter your height: \"))\n",
        "print(height)"
      ],
      "metadata": {
        "colab": {
          "base_uri": "https://localhost:8080/"
        },
        "id": "p5XDX2uFDqyC",
        "outputId": "d553aebb-8749-4245-9d86-4e0d20a7c075"
      },
      "execution_count": null,
      "outputs": [
        {
          "output_type": "stream",
          "name": "stdout",
          "text": [
            "Enter your height: 5\n",
            "5.0\n"
          ]
        }
      ]
    },
    {
      "cell_type": "code",
      "source": [
        "type(height)"
      ],
      "metadata": {
        "colab": {
          "base_uri": "https://localhost:8080/"
        },
        "id": "lv7BCW-LD8A_",
        "outputId": "338dd497-5906-4546-ed50-204e5a4172dc"
      },
      "execution_count": null,
      "outputs": [
        {
          "output_type": "execute_result",
          "data": {
            "text/plain": [
              "float"
            ]
          },
          "metadata": {},
          "execution_count": 27
        }
      ]
    },
    {
      "cell_type": "markdown",
      "source": [
        "Output operator"
      ],
      "metadata": {
        "id": "MVkzWOr9EPTP"
      }
    },
    {
      "cell_type": "code",
      "source": [
        "print(\"hello world\")"
      ],
      "metadata": {
        "colab": {
          "base_uri": "https://localhost:8080/"
        },
        "id": "Af-fhm5FEPCW",
        "outputId": "db4a0b07-d36e-4edc-a939-92abf25ed51f"
      },
      "execution_count": 1,
      "outputs": [
        {
          "output_type": "stream",
          "name": "stdout",
          "text": [
            "hello world\n"
          ]
        }
      ]
    },
    {
      "cell_type": "code",
      "source": [
        "name = \"Sushravya\"\n",
        "age = \"60\"\n",
        "print('My name is',name,'and my age is',age)"
      ],
      "metadata": {
        "colab": {
          "base_uri": "https://localhost:8080/"
        },
        "id": "TuOvH61cEbjl",
        "outputId": "24a7fdd9-d8d8-44bd-8946-15be8e7b0c6e"
      },
      "execution_count": 2,
      "outputs": [
        {
          "output_type": "stream",
          "name": "stdout",
          "text": [
            "My name is Sushravya and my age is 60\n"
          ]
        }
      ]
    },
    {
      "cell_type": "code",
      "source": [
        "print(f\"My name is {name} and my age is {age}\")"
      ],
      "metadata": {
        "colab": {
          "base_uri": "https://localhost:8080/"
        },
        "id": "-xojMmXWE2X6",
        "outputId": "4b1bdd22-bb4c-4f27-c495-45a1152c32e3"
      },
      "execution_count": 3,
      "outputs": [
        {
          "output_type": "stream",
          "name": "stdout",
          "text": [
            "My name is Sushravya and my age is 60\n"
          ]
        }
      ]
    },
    {
      "cell_type": "markdown",
      "source": [
        "Conditional Control Statements"
      ],
      "metadata": {
        "id": "-sHQq9gcPZ7f"
      }
    },
    {
      "cell_type": "markdown",
      "source": [
        "Basic IF Statement"
      ],
      "metadata": {
        "id": "30B5MoPBPdx9"
      }
    },
    {
      "cell_type": "code",
      "source": [
        "age = 26\n",
        "if age >= 18 :\n",
        "  print(\"You are eligible to vote!\")"
      ],
      "metadata": {
        "colab": {
          "base_uri": "https://localhost:8080/"
        },
        "id": "NMhuYVHbPdGj",
        "outputId": "e5b2e8f5-e31e-4b32-bedc-032cb84e557d"
      },
      "execution_count": null,
      "outputs": [
        {
          "output_type": "stream",
          "name": "stdout",
          "text": [
            "You are eligible to vote!\n"
          ]
        }
      ]
    },
    {
      "cell_type": "markdown",
      "source": [
        "IF ELSE statements"
      ],
      "metadata": {
        "id": "zBEI8M56QMb4"
      }
    },
    {
      "cell_type": "code",
      "source": [
        "age = 16\n",
        "if age >= 18 :\n",
        "  print(\"You are eligible to vote!\")\n",
        "else :\n",
        "  print(\"You are not eligible to vote\")"
      ],
      "metadata": {
        "colab": {
          "base_uri": "https://localhost:8080/"
        },
        "id": "8QohvvtAQSYF",
        "outputId": "915e35d4-4b66-4748-dad4-a2b6142b56d7"
      },
      "execution_count": null,
      "outputs": [
        {
          "output_type": "stream",
          "name": "stdout",
          "text": [
            "You are not eligible to vote\n"
          ]
        }
      ]
    },
    {
      "cell_type": "markdown",
      "source": [
        "elif statements"
      ],
      "metadata": {
        "id": "0c45Fx7cQirD"
      }
    },
    {
      "cell_type": "code",
      "source": [
        "score = 15\n",
        "if score >= 90 :\n",
        "  print(\"Grade A\")\n",
        "elif score >= 80 :\n",
        "  print(\"Grade B\")\n",
        "elif score >= 70 :\n",
        "  print(\"Grade C\")\n",
        "elif score >= 60 :\n",
        "  print(\"Grade D\")\n",
        "else :\n",
        "  print(\"Grade F\")"
      ],
      "metadata": {
        "colab": {
          "base_uri": "https://localhost:8080/"
        },
        "id": "zoQolk_kQtDr",
        "outputId": "9cdac8f5-45f5-41b2-903c-5b8c98b3cd57"
      },
      "execution_count": null,
      "outputs": [
        {
          "output_type": "stream",
          "name": "stdout",
          "text": [
            "Grade F\n"
          ]
        }
      ]
    },
    {
      "cell_type": "markdown",
      "source": [
        "Nested IF statement"
      ],
      "metadata": {
        "id": "wuvrEPnFRQIw"
      }
    },
    {
      "cell_type": "code",
      "source": [
        "age = 10\n",
        "voter_id = \"yes\"\n",
        "if age >=18 :\n",
        "  if voter_id == \"yes\":\n",
        "    print(\"You are eligble to vote\")\n",
        "  else :\n",
        "    print(\"You are not eligible to vote\")\n",
        "else :\n",
        "  print(\"You are not eligible to vote\")\n"
      ],
      "metadata": {
        "colab": {
          "base_uri": "https://localhost:8080/"
        },
        "id": "cG0mPjRtRR4V",
        "outputId": "64130dee-27dc-4341-9373-df4731452762"
      },
      "execution_count": null,
      "outputs": [
        {
          "output_type": "stream",
          "name": "stdout",
          "text": [
            "You are not eligible to vote\n"
          ]
        }
      ]
    },
    {
      "cell_type": "markdown",
      "source": [
        "**LOOPS**"
      ],
      "metadata": {
        "id": "4sEkapw8SUJf"
      }
    },
    {
      "cell_type": "markdown",
      "source": [
        "FOR loop"
      ],
      "metadata": {
        "id": "7_NVEQ5ySZcb"
      }
    },
    {
      "cell_type": "code",
      "source": [
        "fruits = [\"apple\",\"orange\",\"grapes\"]\n",
        "print(fruits)"
      ],
      "metadata": {
        "colab": {
          "base_uri": "https://localhost:8080/"
        },
        "id": "fxGhW9q7SXzd",
        "outputId": "779da212-a6f6-4853-b6b8-67b632425f1d"
      },
      "execution_count": 4,
      "outputs": [
        {
          "output_type": "stream",
          "name": "stdout",
          "text": [
            "['apple', 'orange', 'grapes']\n"
          ]
        }
      ]
    },
    {
      "cell_type": "code",
      "source": [
        "print(fruits[0])\n",
        "print(fruits[1])\n",
        "print(fruits[2])"
      ],
      "metadata": {
        "colab": {
          "base_uri": "https://localhost:8080/"
        },
        "id": "KEeo4fDCStlZ",
        "outputId": "0aaaa7d8-8cc5-4aaa-d58a-2a06cf834642"
      },
      "execution_count": null,
      "outputs": [
        {
          "output_type": "stream",
          "name": "stdout",
          "text": [
            "apple\n",
            "orange\n",
            "grapes\n"
          ]
        }
      ]
    },
    {
      "cell_type": "code",
      "source": [
        "for i in fruits :\n",
        "  print(i)\n",
        "print(\"These are the fruits\")"
      ],
      "metadata": {
        "colab": {
          "base_uri": "https://localhost:8080/"
        },
        "id": "DfNIyjBjTA5-",
        "outputId": "f71cd769-2ab7-4458-a8ff-1abd4cfc6bd8"
      },
      "execution_count": null,
      "outputs": [
        {
          "output_type": "stream",
          "name": "stdout",
          "text": [
            "apple\n",
            "orange\n",
            "grapes\n",
            "These are the fruits\n"
          ]
        }
      ]
    },
    {
      "cell_type": "code",
      "source": [
        "for i in range(10):\n",
        "  print(\"I'm at\",i,\"position\")"
      ],
      "metadata": {
        "colab": {
          "base_uri": "https://localhost:8080/"
        },
        "id": "o-0uEaitTY1l",
        "outputId": "d7e270ed-4d73-4645-d705-54a30e7613db"
      },
      "execution_count": null,
      "outputs": [
        {
          "output_type": "stream",
          "name": "stdout",
          "text": [
            "I'm at 0 position\n",
            "I'm at 1 position\n",
            "I'm at 2 position\n",
            "I'm at 3 position\n",
            "I'm at 4 position\n",
            "I'm at 5 position\n",
            "I'm at 6 position\n",
            "I'm at 7 position\n",
            "I'm at 8 position\n",
            "I'm at 9 position\n"
          ]
        }
      ]
    },
    {
      "cell_type": "markdown",
      "source": [
        "While Loop"
      ],
      "metadata": {
        "id": "bFzP4tyMT1r5"
      }
    },
    {
      "cell_type": "code",
      "source": [
        "count = 0\n",
        "while count <= 10:\n",
        "  print(count)\n",
        "  count += 1"
      ],
      "metadata": {
        "colab": {
          "base_uri": "https://localhost:8080/"
        },
        "id": "MXOqgg62T1bW",
        "outputId": "133f2b10-a782-4043-af96-928f2d510dc7"
      },
      "execution_count": null,
      "outputs": [
        {
          "output_type": "stream",
          "name": "stdout",
          "text": [
            "0\n",
            "1\n",
            "2\n",
            "3\n",
            "4\n",
            "5\n",
            "6\n",
            "7\n",
            "8\n",
            "9\n",
            "10\n"
          ]
        }
      ]
    },
    {
      "cell_type": "markdown",
      "source": [
        "Control statements in Loops (Break and Continue)"
      ],
      "metadata": {
        "id": "QpUnUWizVFZn"
      }
    },
    {
      "cell_type": "code",
      "source": [
        "for i in range (10):\n",
        "  if i == 5 :\n",
        "    break\n",
        "  print(i)"
      ],
      "metadata": {
        "colab": {
          "base_uri": "https://localhost:8080/"
        },
        "id": "EI0UyAR5VKcr",
        "outputId": "ef2c81b9-cd71-4c3f-ef88-ec468d44eecd"
      },
      "execution_count": 5,
      "outputs": [
        {
          "output_type": "stream",
          "name": "stdout",
          "text": [
            "0\n",
            "1\n",
            "2\n",
            "3\n",
            "4\n"
          ]
        }
      ]
    },
    {
      "cell_type": "code",
      "source": [
        "for i in range (10):\n",
        "  if i == 5 :\n",
        "    continue\n",
        "  print(i)"
      ],
      "metadata": {
        "colab": {
          "base_uri": "https://localhost:8080/"
        },
        "id": "CRstsJdFVqNR",
        "outputId": "cc11e7f7-0805-4804-8a20-849793d2e995"
      },
      "execution_count": null,
      "outputs": [
        {
          "output_type": "stream",
          "name": "stdout",
          "text": [
            "0\n",
            "1\n",
            "2\n",
            "3\n",
            "4\n",
            "6\n",
            "7\n",
            "8\n",
            "9\n"
          ]
        }
      ]
    },
    {
      "cell_type": "markdown",
      "source": [
        "Nested Loop"
      ],
      "metadata": {
        "id": "QGig5FHBV3ju"
      }
    },
    {
      "cell_type": "code",
      "source": [
        "matrix = [[1,2],[3,4],[6,7]]\n",
        "print(matrix)"
      ],
      "metadata": {
        "colab": {
          "base_uri": "https://localhost:8080/"
        },
        "id": "yJieTkAfV5CQ",
        "outputId": "490d7baa-b50a-4d9b-b449-0b2800cd520a"
      },
      "execution_count": null,
      "outputs": [
        {
          "output_type": "stream",
          "name": "stdout",
          "text": [
            "[[1, 2], [3, 4], [6, 7]]\n"
          ]
        }
      ]
    },
    {
      "cell_type": "code",
      "source": [
        "for i in matrix :\n",
        "  print(i)"
      ],
      "metadata": {
        "colab": {
          "base_uri": "https://localhost:8080/"
        },
        "id": "SuTitNeDWLlv",
        "outputId": "6a277d2a-5853-4559-de26-a7bd39e9cb44"
      },
      "execution_count": null,
      "outputs": [
        {
          "output_type": "stream",
          "name": "stdout",
          "text": [
            "[1, 2]\n",
            "[3, 4]\n",
            "[6, 7]\n"
          ]
        }
      ]
    },
    {
      "cell_type": "code",
      "source": [
        "for i in matrix :\n",
        "  for j in i:\n",
        "    print(j)"
      ],
      "metadata": {
        "colab": {
          "base_uri": "https://localhost:8080/"
        },
        "id": "DzPXAwW4WSmG",
        "outputId": "5d59fd67-a6da-42ac-9991-f6befce74dad"
      },
      "execution_count": null,
      "outputs": [
        {
          "output_type": "stream",
          "name": "stdout",
          "text": [
            "1\n",
            "2\n",
            "3\n",
            "4\n",
            "6\n",
            "7\n"
          ]
        }
      ]
    },
    {
      "cell_type": "code",
      "source": [
        "r = 25\n",
        "for i in range(r, 0, -1):\n",
        "    for j in range(i):\n",
        "        print(\"*\", end=\"\")  # Print stars on the same line\n",
        "    print()  # Move to the next line after each row"
      ],
      "metadata": {
        "colab": {
          "base_uri": "https://localhost:8080/"
        },
        "id": "9bWb0mlNYF4j",
        "outputId": "fb64d076-72ae-4bb9-be3a-b1d00edc6200"
      },
      "execution_count": 10,
      "outputs": [
        {
          "output_type": "stream",
          "name": "stdout",
          "text": [
            "*************************\n",
            "************************\n",
            "***********************\n",
            "**********************\n",
            "*********************\n",
            "********************\n",
            "*******************\n",
            "******************\n",
            "*****************\n",
            "****************\n",
            "***************\n",
            "**************\n",
            "*************\n",
            "************\n",
            "***********\n",
            "**********\n",
            "*********\n",
            "********\n",
            "*******\n",
            "******\n",
            "*****\n",
            "****\n",
            "***\n",
            "**\n",
            "*\n"
          ]
        }
      ]
    },
    {
      "cell_type": "code",
      "source": [
        "r = 25\n",
        "for i in range(r):\n",
        "  for j in range(i):\n",
        "    print(\"*\",end=\"\")\n",
        "  print()"
      ],
      "metadata": {
        "colab": {
          "base_uri": "https://localhost:8080/"
        },
        "id": "HWO6v-fLYniQ",
        "outputId": "ca8cf5b4-810c-47f0-96c7-b6d5568d3e05"
      },
      "execution_count": 11,
      "outputs": [
        {
          "output_type": "stream",
          "name": "stdout",
          "text": [
            "\n",
            "*\n",
            "**\n",
            "***\n",
            "****\n",
            "*****\n",
            "******\n",
            "*******\n",
            "********\n",
            "*********\n",
            "**********\n",
            "***********\n",
            "************\n",
            "*************\n",
            "**************\n",
            "***************\n",
            "****************\n",
            "*****************\n",
            "******************\n",
            "*******************\n",
            "********************\n",
            "*********************\n",
            "**********************\n",
            "***********************\n",
            "************************\n"
          ]
        }
      ]
    },
    {
      "cell_type": "markdown",
      "source": [
        "LISTS"
      ],
      "metadata": {
        "id": "5NF56UP8Y1R0"
      }
    },
    {
      "cell_type": "code",
      "source": [
        "a = [\"shravya\",608,\"Cheery\",\"CloudThat\",6562]"
      ],
      "metadata": {
        "id": "89SkxHhmY973"
      },
      "execution_count": null,
      "outputs": []
    },
    {
      "cell_type": "code",
      "source": [
        "type(a)"
      ],
      "metadata": {
        "colab": {
          "base_uri": "https://localhost:8080/"
        },
        "id": "YFgzjcRfZgvA",
        "outputId": "49365d5e-54ef-4797-afb8-212dbc7dd340"
      },
      "execution_count": null,
      "outputs": [
        {
          "output_type": "execute_result",
          "data": {
            "text/plain": [
              "list"
            ]
          },
          "metadata": {},
          "execution_count": 48
        }
      ]
    },
    {
      "cell_type": "code",
      "source": [
        "print(a[2])\n",
        "print(a[3])"
      ],
      "metadata": {
        "colab": {
          "base_uri": "https://localhost:8080/"
        },
        "id": "eABlG53dZqoz",
        "outputId": "6aff0d30-6e31-45fb-e389-453c97819d64"
      },
      "execution_count": null,
      "outputs": [
        {
          "output_type": "stream",
          "name": "stdout",
          "text": [
            "Cheery\n",
            "CloudThat\n"
          ]
        }
      ]
    },
    {
      "cell_type": "markdown",
      "source": [
        "Modify list"
      ],
      "metadata": {
        "id": "-EFQUN_OZ2cX"
      }
    },
    {
      "cell_type": "code",
      "source": [
        "a.append(6)\n",
        "print(a)"
      ],
      "metadata": {
        "colab": {
          "base_uri": "https://localhost:8080/"
        },
        "id": "gdxeMAmFZ2LJ",
        "outputId": "98782e51-4ccd-4fcf-d7b8-9dc05bea390e"
      },
      "execution_count": null,
      "outputs": [
        {
          "output_type": "stream",
          "name": "stdout",
          "text": [
            "['shravya', 608, 'Cheery', 'CloudThat', 6562, 6]\n"
          ]
        }
      ]
    },
    {
      "cell_type": "code",
      "source": [
        "b = [66,\"abcd\",98,\"AI\"]\n",
        "a.extend(b)\n",
        "print(a)"
      ],
      "metadata": {
        "colab": {
          "base_uri": "https://localhost:8080/"
        },
        "id": "QeucGYs9aVzL",
        "outputId": "2d51ef51-8525-4884-9620-6a239d3a12bd"
      },
      "execution_count": null,
      "outputs": [
        {
          "output_type": "stream",
          "name": "stdout",
          "text": [
            "['shravya', 608, 'Cheery', 'CloudThat', 6562, 6, 66, 'abcd', 98, 'AI']\n"
          ]
        }
      ]
    },
    {
      "cell_type": "code",
      "source": [
        "a.insert(2,\"Hi all\")\n",
        "print(a)"
      ],
      "metadata": {
        "colab": {
          "base_uri": "https://localhost:8080/"
        },
        "id": "Po4_xstYaoOM",
        "outputId": "542a026f-aa18-4ea6-89a2-3afc8c887ca1"
      },
      "execution_count": null,
      "outputs": [
        {
          "output_type": "stream",
          "name": "stdout",
          "text": [
            "['shravya', 608, 'Hi all', 'Cheery', 'CloudThat', 6562, 6, 66, 'abcd', 98, 'AI']\n"
          ]
        }
      ]
    },
    {
      "cell_type": "code",
      "source": [
        "a[2] = \"Hello Everyone\"\n",
        "print(a)"
      ],
      "metadata": {
        "colab": {
          "base_uri": "https://localhost:8080/"
        },
        "id": "VMd2qfOka0i7",
        "outputId": "09d32dfe-66f1-4555-d82f-fd742ee229b0"
      },
      "execution_count": null,
      "outputs": [
        {
          "output_type": "stream",
          "name": "stdout",
          "text": [
            "['shravya', 608, 'Hello Everyone', 'Cheery', 'CloudThat', 6562, 6, 66, 'abcd', 98, 'AI']\n"
          ]
        }
      ]
    },
    {
      "cell_type": "code",
      "source": [
        "del a[7]\n",
        "print(a)"
      ],
      "metadata": {
        "colab": {
          "base_uri": "https://localhost:8080/"
        },
        "id": "kiYgwKsBa6_9",
        "outputId": "163a6b1d-6314-4762-e6bb-fa7f4ffa2a08"
      },
      "execution_count": null,
      "outputs": [
        {
          "output_type": "stream",
          "name": "stdout",
          "text": [
            "['shravya', 608, 'Hello Everyone', 'Cheery', 'CloudThat', 6562, 6, 'abcd', 98, 'AI']\n"
          ]
        }
      ]
    },
    {
      "cell_type": "code",
      "source": [
        "a.remove(6)\n",
        "print(a)"
      ],
      "metadata": {
        "colab": {
          "base_uri": "https://localhost:8080/"
        },
        "id": "8fqCI73gbDAW",
        "outputId": "dcb1313b-1b37-4703-cd17-0c986e4c4d2c"
      },
      "execution_count": null,
      "outputs": [
        {
          "output_type": "stream",
          "name": "stdout",
          "text": [
            "['shravya', 608, 'Hello Everyone', 'Cheery', 'CloudThat', 6562, 'abcd', 98, 'AI']\n"
          ]
        }
      ]
    },
    {
      "cell_type": "code",
      "source": [
        "a.pop(1)\n",
        "print(a)"
      ],
      "metadata": {
        "id": "4gPpbEzUbPYm",
        "outputId": "62d6feb4-260b-4dbf-9cef-d90290d365b4",
        "colab": {
          "base_uri": "https://localhost:8080/"
        }
      },
      "execution_count": null,
      "outputs": [
        {
          "output_type": "stream",
          "name": "stdout",
          "text": [
            "['shravya', 'Hello Everyone', 'Cheery', 'CloudThat', 6562, 'abcd', 98, 'AI']\n"
          ]
        }
      ]
    },
    {
      "cell_type": "code",
      "source": [
        "# Outer loop controls rows\n",
        "for i in range(1, 4):  # Rows: 1 to 3\n",
        "    # Inner loop controls columns\n",
        "    for j in range(1, 4):  # Columns: 1 to 3\n",
        "        print(f\"({i}, {j})\", end=\" \")\n",
        "    print()  # Move to the next line after finishing a row"
      ],
      "metadata": {
        "colab": {
          "base_uri": "https://localhost:8080/"
        },
        "id": "n0XPlGVZ7J-m",
        "outputId": "4d703a9c-d8ab-44aa-d998-610271d42999"
      },
      "execution_count": 12,
      "outputs": [
        {
          "output_type": "stream",
          "name": "stdout",
          "text": [
            "(1, 1) (1, 2) (1, 3) \n",
            "(2, 1) (2, 2) (2, 3) \n",
            "(3, 1) (3, 2) (3, 3) \n"
          ]
        }
      ]
    },
    {
      "cell_type": "code",
      "source": [
        "rows = 25\n",
        "for i in range(1, rows + 1):  # Outer loop for rows\n",
        "    for j in range(i):  # Inner loop for columns\n",
        "        print(\"*\", end=\"\")  # Print stars on the same line\n",
        "    print()  # Move to the next line after finishing a row"
      ],
      "metadata": {
        "colab": {
          "base_uri": "https://localhost:8080/"
        },
        "id": "bBXAEPic7N2i",
        "outputId": "7931762d-3cbf-4647-a815-4e9a20c275ce"
      },
      "execution_count": 14,
      "outputs": [
        {
          "output_type": "stream",
          "name": "stdout",
          "text": [
            "*\n",
            "**\n",
            "***\n",
            "****\n",
            "*****\n",
            "******\n",
            "*******\n",
            "********\n",
            "*********\n",
            "**********\n",
            "***********\n",
            "************\n",
            "*************\n",
            "**************\n",
            "***************\n",
            "****************\n",
            "*****************\n",
            "******************\n",
            "*******************\n",
            "********************\n",
            "*********************\n",
            "**********************\n",
            "***********************\n",
            "************************\n",
            "*************************\n"
          ]
        }
      ]
    }
  ]
}