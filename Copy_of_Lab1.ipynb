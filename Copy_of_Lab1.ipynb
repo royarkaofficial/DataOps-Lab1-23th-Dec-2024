{
  "nbformat": 4,
  "nbformat_minor": 0,
  "metadata": {
    "colab": {
      "provenance": [],
      "include_colab_link": true
    },
    "kernelspec": {
      "name": "python3",
      "display_name": "Python 3"
    },
    "language_info": {
      "name": "python"
    }
  },
  "cells": [
    {
      "cell_type": "markdown",
      "metadata": {
        "id": "view-in-github",
        "colab_type": "text"
      },
      "source": [
        "<a href=\"https://colab.research.google.com/github/royarkaofficial/DataOps-Lab1-23th-Dec-2024/blob/main/Copy_of_Lab1.ipynb\" target=\"_parent\"><img src=\"https://colab.research.google.com/assets/colab-badge.svg\" alt=\"Open In Colab\"/></a>"
      ]
    },
    {
      "cell_type": "markdown",
      "source": [
        "**Variable**"
      ],
      "metadata": {
        "id": "2SCSVnLP-XHn"
      }
    },
    {
      "cell_type": "code",
      "source": [
        "age1 = 25"
      ],
      "metadata": {
        "id": "nJNs5g1y4hLV"
      },
      "execution_count": 1,
      "outputs": []
    },
    {
      "cell_type": "code",
      "source": [
        "age = \"20\""
      ],
      "metadata": {
        "id": "PoZfizK--t1F"
      },
      "execution_count": 2,
      "outputs": []
    },
    {
      "cell_type": "code",
      "source": [
        "print (age)"
      ],
      "metadata": {
        "colab": {
          "base_uri": "https://localhost:8080/"
        },
        "id": "NxM0oGPB-2k5",
        "outputId": "2241e3e2-f94d-42aa-a65e-bef339b92ae7"
      },
      "execution_count": 3,
      "outputs": [
        {
          "output_type": "stream",
          "name": "stdout",
          "text": [
            "20\n"
          ]
        }
      ]
    },
    {
      "cell_type": "code",
      "source": [
        "print(age1)"
      ],
      "metadata": {
        "colab": {
          "base_uri": "https://localhost:8080/"
        },
        "id": "KxSZYaMP-9yj",
        "outputId": "dca95036-93f8-4111-a89d-4b49afc29d5d"
      },
      "execution_count": 4,
      "outputs": [
        {
          "output_type": "stream",
          "name": "stdout",
          "text": [
            "25\n"
          ]
        }
      ]
    },
    {
      "cell_type": "code",
      "source": [
        "name = \"Cherry\""
      ],
      "metadata": {
        "id": "AlN05vNw_PCk"
      },
      "execution_count": 5,
      "outputs": []
    },
    {
      "cell_type": "code",
      "source": [
        "type(name)"
      ],
      "metadata": {
        "colab": {
          "base_uri": "https://localhost:8080/"
        },
        "id": "DsNGftCk_ZhG",
        "outputId": "51fcfa54-c66e-4e01-8bfe-7816b9040c3d"
      },
      "execution_count": 6,
      "outputs": [
        {
          "output_type": "execute_result",
          "data": {
            "text/plain": [
              "str"
            ]
          },
          "metadata": {},
          "execution_count": 6
        }
      ]
    },
    {
      "cell_type": "code",
      "source": [
        "type(age1)"
      ],
      "metadata": {
        "colab": {
          "base_uri": "https://localhost:8080/"
        },
        "id": "33k4apce_hAb",
        "outputId": "836f5f7d-27bc-4702-d672-d59acc629d04"
      },
      "execution_count": 7,
      "outputs": [
        {
          "output_type": "execute_result",
          "data": {
            "text/plain": [
              "int"
            ]
          },
          "metadata": {},
          "execution_count": 7
        }
      ]
    },
    {
      "cell_type": "markdown",
      "source": [
        "Updating the variables"
      ],
      "metadata": {
        "id": "Urfy0flv_ufL"
      }
    },
    {
      "cell_type": "code",
      "source": [
        "count = 10\n",
        "count = count + 5"
      ],
      "metadata": {
        "id": "LKgJ93Ii_1Kl"
      },
      "execution_count": 8,
      "outputs": []
    },
    {
      "cell_type": "code",
      "source": [
        "count"
      ],
      "metadata": {
        "colab": {
          "base_uri": "https://localhost:8080/"
        },
        "id": "7a6naNxnAAsL",
        "outputId": "f92b52b8-0d16-4b60-ff90-f99d8273540c"
      },
      "execution_count": 9,
      "outputs": [
        {
          "output_type": "execute_result",
          "data": {
            "text/plain": [
              "15"
            ]
          },
          "metadata": {},
          "execution_count": 9
        }
      ]
    },
    {
      "cell_type": "code",
      "source": [
        "count = 25\n",
        "count += 5"
      ],
      "metadata": {
        "id": "TIqsB8kmAIR6"
      },
      "execution_count": 10,
      "outputs": []
    },
    {
      "cell_type": "code",
      "source": [
        "count"
      ],
      "metadata": {
        "colab": {
          "base_uri": "https://localhost:8080/"
        },
        "id": "6xGMGVjOAyox",
        "outputId": "f6682c30-8b7d-434a-a016-c05567bc93ad"
      },
      "execution_count": 11,
      "outputs": [
        {
          "output_type": "execute_result",
          "data": {
            "text/plain": [
              "30"
            ]
          },
          "metadata": {},
          "execution_count": 11
        }
      ]
    },
    {
      "cell_type": "code",
      "source": [
        "count -= 5"
      ],
      "metadata": {
        "id": "9LIQV0RrA2sf"
      },
      "execution_count": 12,
      "outputs": []
    },
    {
      "cell_type": "code",
      "source": [
        "count"
      ],
      "metadata": {
        "colab": {
          "base_uri": "https://localhost:8080/"
        },
        "id": "b4e2daN8A5Yc",
        "outputId": "aa04406d-c177-4210-dc19-c20ce73a2900"
      },
      "execution_count": 13,
      "outputs": [
        {
          "output_type": "execute_result",
          "data": {
            "text/plain": [
              "25"
            ]
          },
          "metadata": {},
          "execution_count": 13
        }
      ]
    },
    {
      "cell_type": "code",
      "source": [
        "count *= 2"
      ],
      "metadata": {
        "id": "a7oAKqKgBDTV"
      },
      "execution_count": 14,
      "outputs": []
    },
    {
      "cell_type": "code",
      "source": [
        "count"
      ],
      "metadata": {
        "colab": {
          "base_uri": "https://localhost:8080/"
        },
        "id": "vYmgd-hFBJtx",
        "outputId": "64425add-bf34-4ee9-9728-e726c83e4e11"
      },
      "execution_count": 15,
      "outputs": [
        {
          "output_type": "execute_result",
          "data": {
            "text/plain": [
              "50"
            ]
          },
          "metadata": {},
          "execution_count": 15
        }
      ]
    },
    {
      "cell_type": "code",
      "source": [
        "count /= 3"
      ],
      "metadata": {
        "id": "-ZL0kPuFBL2v"
      },
      "execution_count": 16,
      "outputs": []
    },
    {
      "cell_type": "code",
      "source": [
        "count"
      ],
      "metadata": {
        "colab": {
          "base_uri": "https://localhost:8080/"
        },
        "id": "ZiAIX42BBUjj",
        "outputId": "2384c6c1-725f-4ad8-d108-66ec4ab1b10f"
      },
      "execution_count": 17,
      "outputs": [
        {
          "output_type": "execute_result",
          "data": {
            "text/plain": [
              "16.666666666666668"
            ]
          },
          "metadata": {},
          "execution_count": 17
        }
      ]
    },
    {
      "cell_type": "markdown",
      "source": [
        "Multiple variable Assignments"
      ],
      "metadata": {
        "id": "LwmVyTS0Biau"
      }
    },
    {
      "cell_type": "code",
      "source": [
        "a , b, c, d = 10 , 20 , 30 , 40"
      ],
      "metadata": {
        "id": "S3_26ifUBlgb"
      },
      "execution_count": 18,
      "outputs": []
    },
    {
      "cell_type": "code",
      "source": [
        "print(a)\n",
        "print(b)\n",
        "print(c)\n",
        "print(d)"
      ],
      "metadata": {
        "colab": {
          "base_uri": "https://localhost:8080/"
        },
        "id": "FB71V_-HBvnK",
        "outputId": "32a238bc-9622-4a2e-a3fa-b97e4764ae97"
      },
      "execution_count": 19,
      "outputs": [
        {
          "output_type": "stream",
          "name": "stdout",
          "text": [
            "10\n",
            "20\n",
            "30\n",
            "40\n"
          ]
        }
      ]
    },
    {
      "cell_type": "code",
      "source": [
        "x = y = z= s= 10000"
      ],
      "metadata": {
        "id": "xFH8MhH8B3jb"
      },
      "execution_count": 20,
      "outputs": []
    },
    {
      "cell_type": "code",
      "source": [
        "print(x)\n",
        "print(y)\n",
        "print(z)\n",
        "print(s)"
      ],
      "metadata": {
        "colab": {
          "base_uri": "https://localhost:8080/"
        },
        "id": "byM8Z5nzCDIX",
        "outputId": "2b1c39df-a42f-4168-cdfd-44f0ba367eff"
      },
      "execution_count": 21,
      "outputs": [
        {
          "output_type": "stream",
          "name": "stdout",
          "text": [
            "10000\n",
            "10000\n",
            "10000\n",
            "10000\n"
          ]
        }
      ]
    },
    {
      "cell_type": "markdown",
      "source": [
        "Dynmaic Typing"
      ],
      "metadata": {
        "id": "MxTqo4UgCXSN"
      }
    },
    {
      "cell_type": "code",
      "source": [
        "x = \"hello\"\n",
        "x = 15"
      ],
      "metadata": {
        "id": "jUzAZb1vCZ1M"
      },
      "execution_count": 22,
      "outputs": []
    },
    {
      "cell_type": "code",
      "source": [
        "type(x)"
      ],
      "metadata": {
        "colab": {
          "base_uri": "https://localhost:8080/"
        },
        "id": "HPtQOLthCe_l",
        "outputId": "84c19d48-c124-4e6b-c1e5-94b199cf33e4"
      },
      "execution_count": 23,
      "outputs": [
        {
          "output_type": "execute_result",
          "data": {
            "text/plain": [
              "int"
            ]
          },
          "metadata": {},
          "execution_count": 23
        }
      ]
    },
    {
      "cell_type": "markdown",
      "source": [
        "Input Output Operators"
      ],
      "metadata": {
        "id": "vOEqEnYEC-7J"
      }
    },
    {
      "cell_type": "code",
      "source": [
        " a = input()\n",
        " print(a)"
      ],
      "metadata": {
        "colab": {
          "base_uri": "https://localhost:8080/"
        },
        "id": "5ddmhg6rDET8",
        "outputId": "9f06f2a1-49a9-4fd3-fd1a-880528e2403f"
      },
      "execution_count": 24,
      "outputs": [
        {
          "output_type": "stream",
          "name": "stdout",
          "text": [
            "25\n",
            "25\n"
          ]
        }
      ]
    },
    {
      "cell_type": "code",
      "source": [
        "b = input(\"Enter your name: \")\n",
        "print(b)"
      ],
      "metadata": {
        "colab": {
          "base_uri": "https://localhost:8080/"
        },
        "id": "XLJwHIRnDcvS",
        "outputId": "fb5e4d75-ab48-4430-da03-b34d991b9f21"
      },
      "execution_count": 25,
      "outputs": [
        {
          "output_type": "stream",
          "name": "stdout",
          "text": [
            "Enter your name: 15\n",
            "15\n"
          ]
        }
      ]
    },
    {
      "cell_type": "code",
      "source": [
        "height = float(input(\"Enter your height: \"))\n",
        "print(height)"
      ],
      "metadata": {
        "colab": {
          "base_uri": "https://localhost:8080/"
        },
        "id": "p5XDX2uFDqyC",
        "outputId": "450882b3-2295-430b-b356-db55a0115cf8"
      },
      "execution_count": 26,
      "outputs": [
        {
          "output_type": "stream",
          "name": "stdout",
          "text": [
            "Enter your height: 15.62\n",
            "15.62\n"
          ]
        }
      ]
    },
    {
      "cell_type": "code",
      "source": [
        "type(height)"
      ],
      "metadata": {
        "colab": {
          "base_uri": "https://localhost:8080/"
        },
        "id": "lv7BCW-LD8A_",
        "outputId": "bf82b559-3d1d-463e-8a51-87b2c29b4815"
      },
      "execution_count": 27,
      "outputs": [
        {
          "output_type": "execute_result",
          "data": {
            "text/plain": [
              "float"
            ]
          },
          "metadata": {},
          "execution_count": 27
        }
      ]
    },
    {
      "cell_type": "markdown",
      "source": [
        "Output operator"
      ],
      "metadata": {
        "id": "MVkzWOr9EPTP"
      }
    },
    {
      "cell_type": "code",
      "source": [
        "print(\"hello world\")"
      ],
      "metadata": {
        "colab": {
          "base_uri": "https://localhost:8080/"
        },
        "id": "Af-fhm5FEPCW",
        "outputId": "f80492a3-8305-462a-9392-03c21c1ea50a"
      },
      "execution_count": 28,
      "outputs": [
        {
          "output_type": "stream",
          "name": "stdout",
          "text": [
            "hello world\n"
          ]
        }
      ]
    },
    {
      "cell_type": "code",
      "source": [
        "name = \"Sushravya\"\n",
        "age = \"60\"\n",
        "print('My name is',name,'and my age is',age)"
      ],
      "metadata": {
        "colab": {
          "base_uri": "https://localhost:8080/"
        },
        "id": "TuOvH61cEbjl",
        "outputId": "d1e96ff4-127d-4876-cce4-96d5e8c403be"
      },
      "execution_count": 29,
      "outputs": [
        {
          "output_type": "stream",
          "name": "stdout",
          "text": [
            "My name is Sushravya and my age is 60\n"
          ]
        }
      ]
    },
    {
      "cell_type": "code",
      "source": [
        "print(f\"My name is {name} and my age is {age}\")"
      ],
      "metadata": {
        "colab": {
          "base_uri": "https://localhost:8080/"
        },
        "id": "-xojMmXWE2X6",
        "outputId": "a8084b3c-c502-4f9e-c926-b35ceb6d1b1d"
      },
      "execution_count": 30,
      "outputs": [
        {
          "output_type": "stream",
          "name": "stdout",
          "text": [
            "My name is Sushravya and my age is 60\n"
          ]
        }
      ]
    },
    {
      "cell_type": "markdown",
      "source": [
        "Conditional Control Statements"
      ],
      "metadata": {
        "id": "-sHQq9gcPZ7f"
      }
    },
    {
      "cell_type": "markdown",
      "source": [
        "Basic IF Statement"
      ],
      "metadata": {
        "id": "30B5MoPBPdx9"
      }
    },
    {
      "cell_type": "code",
      "source": [
        "age = 26\n",
        "if age >= 18 :\n",
        "  print(\"You are eligible to vote!\")"
      ],
      "metadata": {
        "colab": {
          "base_uri": "https://localhost:8080/"
        },
        "id": "NMhuYVHbPdGj",
        "outputId": "4f7f6b4f-4177-4e4b-e058-95e473bc0a0b"
      },
      "execution_count": 31,
      "outputs": [
        {
          "output_type": "stream",
          "name": "stdout",
          "text": [
            "You are eligible to vote!\n"
          ]
        }
      ]
    },
    {
      "cell_type": "markdown",
      "source": [
        "IF ELSE statements"
      ],
      "metadata": {
        "id": "zBEI8M56QMb4"
      }
    },
    {
      "cell_type": "code",
      "source": [
        "age = 25\n",
        "if age >= 18 :\n",
        "  print(\"You are eligible to vote!\")\n",
        "else :\n",
        "  print(\"You are not eligible to vote\")"
      ],
      "metadata": {
        "colab": {
          "base_uri": "https://localhost:8080/"
        },
        "id": "8QohvvtAQSYF",
        "outputId": "3550ad8b-c9d1-4c73-db7a-84b1b45ca2a1"
      },
      "execution_count": 33,
      "outputs": [
        {
          "output_type": "stream",
          "name": "stdout",
          "text": [
            "You are eligible to vote!\n"
          ]
        }
      ]
    },
    {
      "cell_type": "markdown",
      "source": [
        "elif statements"
      ],
      "metadata": {
        "id": "0c45Fx7cQirD"
      }
    },
    {
      "cell_type": "code",
      "source": [
        "score = 60\n",
        "if score >= 90 :\n",
        "  print(\"Grade A\")\n",
        "elif score >= 80 :\n",
        "  print(\"Grade B\")\n",
        "elif score >= 70 :\n",
        "  print(\"Grade C\")\n",
        "elif score >= 60 :\n",
        "  print(\"Grade D\")\n",
        "else :\n",
        "  print(\"Grade F\")"
      ],
      "metadata": {
        "colab": {
          "base_uri": "https://localhost:8080/"
        },
        "id": "zoQolk_kQtDr",
        "outputId": "8004d195-554a-418f-a3cb-c2ccbe0b0b1e"
      },
      "execution_count": 34,
      "outputs": [
        {
          "output_type": "stream",
          "name": "stdout",
          "text": [
            "Grade D\n"
          ]
        }
      ]
    },
    {
      "cell_type": "markdown",
      "source": [
        "Nested IF statement"
      ],
      "metadata": {
        "id": "wuvrEPnFRQIw"
      }
    },
    {
      "cell_type": "code",
      "source": [
        "age = 10\n",
        "voter_id = \"yes\"\n",
        "if age >=18 :\n",
        "  if voter_id == \"yes\":\n",
        "    print(\"You are eligble to vote\")\n",
        "  else :\n",
        "    print(\"You are not eligible to vote\")\n",
        "else :\n",
        "  print(\"You are not eligible to vote\")"
      ],
      "metadata": {
        "colab": {
          "base_uri": "https://localhost:8080/"
        },
        "id": "cG0mPjRtRR4V",
        "outputId": "1c0b3001-4424-47c9-eee8-aeac5329c92f"
      },
      "execution_count": 35,
      "outputs": [
        {
          "output_type": "stream",
          "name": "stdout",
          "text": [
            "You are not eligible to vote\n"
          ]
        }
      ]
    },
    {
      "cell_type": "markdown",
      "source": [
        "**LOOPS**"
      ],
      "metadata": {
        "id": "4sEkapw8SUJf"
      }
    },
    {
      "cell_type": "markdown",
      "source": [
        "FOR loop"
      ],
      "metadata": {
        "id": "7_NVEQ5ySZcb"
      }
    },
    {
      "cell_type": "code",
      "source": [
        "fruits = [\"apple\",\"orange\",\"grapes\"]\n",
        "print(fruits)"
      ],
      "metadata": {
        "colab": {
          "base_uri": "https://localhost:8080/"
        },
        "id": "fxGhW9q7SXzd",
        "outputId": "bf39ebc4-0111-47d0-8d80-06df40e274a9"
      },
      "execution_count": 36,
      "outputs": [
        {
          "output_type": "stream",
          "name": "stdout",
          "text": [
            "['apple', 'orange', 'grapes']\n"
          ]
        }
      ]
    },
    {
      "cell_type": "code",
      "source": [
        "print(fruits[0])\n",
        "print(fruits[1])\n",
        "print(fruits[2])"
      ],
      "metadata": {
        "colab": {
          "base_uri": "https://localhost:8080/"
        },
        "id": "KEeo4fDCStlZ",
        "outputId": "674c8a3b-9cfa-4942-99e6-ce5779e1dbb0"
      },
      "execution_count": 37,
      "outputs": [
        {
          "output_type": "stream",
          "name": "stdout",
          "text": [
            "apple\n",
            "orange\n",
            "grapes\n"
          ]
        }
      ]
    },
    {
      "cell_type": "code",
      "source": [
        "print(\"These are the fruits\")\n",
        "for i in fruits :\n",
        "  print(i)"
      ],
      "metadata": {
        "colab": {
          "base_uri": "https://localhost:8080/"
        },
        "id": "DfNIyjBjTA5-",
        "outputId": "c08bf2a8-7891-42ee-ce98-14e6c44bc3fe"
      },
      "execution_count": 40,
      "outputs": [
        {
          "output_type": "stream",
          "name": "stdout",
          "text": [
            "These are the fruits\n",
            "apple\n",
            "orange\n",
            "grapes\n"
          ]
        }
      ]
    },
    {
      "cell_type": "code",
      "source": [
        "for i in range(10):\n",
        "  print(\"I'm at\",i,\"position\")"
      ],
      "metadata": {
        "colab": {
          "base_uri": "https://localhost:8080/"
        },
        "id": "o-0uEaitTY1l",
        "outputId": "3a94435c-99ef-486e-e0a2-cdf1830048e8"
      },
      "execution_count": 41,
      "outputs": [
        {
          "output_type": "stream",
          "name": "stdout",
          "text": [
            "I'm at 0 position\n",
            "I'm at 1 position\n",
            "I'm at 2 position\n",
            "I'm at 3 position\n",
            "I'm at 4 position\n",
            "I'm at 5 position\n",
            "I'm at 6 position\n",
            "I'm at 7 position\n",
            "I'm at 8 position\n",
            "I'm at 9 position\n"
          ]
        }
      ]
    },
    {
      "cell_type": "markdown",
      "source": [
        "While Loop"
      ],
      "metadata": {
        "id": "bFzP4tyMT1r5"
      }
    },
    {
      "cell_type": "code",
      "source": [
        "count = 0\n",
        "while count <= 10:\n",
        "  print(count, end=\" \")  # 0,1,2,3,4,5,6\n",
        "  count += 1"
      ],
      "metadata": {
        "colab": {
          "base_uri": "https://localhost:8080/"
        },
        "id": "MXOqgg62T1bW",
        "outputId": "19ef908e-f1f7-4ae7-9ccb-70c81c1b51a9"
      },
      "execution_count": 42,
      "outputs": [
        {
          "output_type": "stream",
          "name": "stdout",
          "text": [
            "0 1 2 3 4 5 6 7 8 9 10 "
          ]
        }
      ]
    },
    {
      "cell_type": "markdown",
      "source": [
        "Control statements in Loops (Break and Continue)"
      ],
      "metadata": {
        "id": "QpUnUWizVFZn"
      }
    },
    {
      "cell_type": "code",
      "source": [
        "for i in range (10):\n",
        "  if i == 5 :\n",
        "    break\n",
        "  print(i, end=\" \")"
      ],
      "metadata": {
        "colab": {
          "base_uri": "https://localhost:8080/"
        },
        "id": "EI0UyAR5VKcr",
        "outputId": "5af29ccf-7287-4256-8e55-ea7425980a85"
      },
      "execution_count": 44,
      "outputs": [
        {
          "output_type": "stream",
          "name": "stdout",
          "text": [
            "0 1 2 3 4 "
          ]
        }
      ]
    },
    {
      "cell_type": "code",
      "source": [
        "for i in range (10):\n",
        "  if i == 5 :\n",
        "    continue\n",
        "  print(i, end=\" \")"
      ],
      "metadata": {
        "colab": {
          "base_uri": "https://localhost:8080/"
        },
        "id": "CRstsJdFVqNR",
        "outputId": "79560e9f-2599-466a-c8ca-ad026d33e542"
      },
      "execution_count": 45,
      "outputs": [
        {
          "output_type": "stream",
          "name": "stdout",
          "text": [
            "0 1 2 3 4 6 7 8 9 "
          ]
        }
      ]
    },
    {
      "cell_type": "markdown",
      "source": [
        "Nested Loop"
      ],
      "metadata": {
        "id": "QGig5FHBV3ju"
      }
    },
    {
      "cell_type": "code",
      "source": [
        "matrix = [[1,2],[3,4],[6,7]]\n",
        "print(matrix)"
      ],
      "metadata": {
        "colab": {
          "base_uri": "https://localhost:8080/"
        },
        "id": "yJieTkAfV5CQ",
        "outputId": "aebe6f26-29f0-4ad5-a910-1f36fd53b8f7"
      },
      "execution_count": 46,
      "outputs": [
        {
          "output_type": "stream",
          "name": "stdout",
          "text": [
            "[[1, 2], [3, 4], [6, 7]]\n"
          ]
        }
      ]
    },
    {
      "cell_type": "code",
      "source": [
        "for i in matrix :\n",
        "  print(i)"
      ],
      "metadata": {
        "colab": {
          "base_uri": "https://localhost:8080/"
        },
        "id": "SuTitNeDWLlv",
        "outputId": "32062692-1f0d-4183-e048-da0be93e8c5c"
      },
      "execution_count": 47,
      "outputs": [
        {
          "output_type": "stream",
          "name": "stdout",
          "text": [
            "[1, 2]\n",
            "[3, 4]\n",
            "[6, 7]\n"
          ]
        }
      ]
    },
    {
      "cell_type": "code",
      "source": [
        "for i in matrix :\n",
        "  for j in i:\n",
        "    print(j, end=\" \")"
      ],
      "metadata": {
        "colab": {
          "base_uri": "https://localhost:8080/"
        },
        "id": "DzPXAwW4WSmG",
        "outputId": "0d142b5b-09dc-411a-aefa-99267ad2231d"
      },
      "execution_count": 49,
      "outputs": [
        {
          "output_type": "stream",
          "name": "stdout",
          "text": [
            "1 2 3 4 6 7 "
          ]
        }
      ]
    },
    {
      "cell_type": "code",
      "source": [
        "r = 25\n",
        "for i in range(r , 0 , -1):\n",
        "  for j in range(i):\n",
        "    print(\"*\",end=\"\")\n",
        "  print()"
      ],
      "metadata": {
        "colab": {
          "base_uri": "https://localhost:8080/"
        },
        "id": "9bWb0mlNYF4j",
        "outputId": "a90fc522-ba65-42dd-eb05-a0123a2111c6"
      },
      "execution_count": 51,
      "outputs": [
        {
          "output_type": "stream",
          "name": "stdout",
          "text": [
            "*************************\n",
            "************************\n",
            "***********************\n",
            "**********************\n",
            "*********************\n",
            "********************\n",
            "*******************\n",
            "******************\n",
            "*****************\n",
            "****************\n",
            "***************\n",
            "**************\n",
            "*************\n",
            "************\n",
            "***********\n",
            "**********\n",
            "*********\n",
            "********\n",
            "*******\n",
            "******\n",
            "*****\n",
            "****\n",
            "***\n",
            "**\n",
            "*\n"
          ]
        }
      ]
    },
    {
      "cell_type": "code",
      "source": [
        "r = 25\n",
        "for i in range(r):\n",
        "  for j in range(i):\n",
        "    print(\"*\",end=\"\")\n",
        "  print()"
      ],
      "metadata": {
        "colab": {
          "base_uri": "https://localhost:8080/"
        },
        "id": "HWO6v-fLYniQ",
        "outputId": "df1873ef-c21a-4f9e-e4b0-6e7d897d5e9b"
      },
      "execution_count": 54,
      "outputs": [
        {
          "output_type": "stream",
          "name": "stdout",
          "text": [
            "\n",
            "*\n",
            "**\n",
            "***\n",
            "****\n",
            "*****\n",
            "******\n",
            "*******\n",
            "********\n",
            "*********\n",
            "**********\n",
            "***********\n",
            "************\n",
            "*************\n",
            "**************\n",
            "***************\n",
            "****************\n",
            "*****************\n",
            "******************\n",
            "*******************\n",
            "********************\n",
            "*********************\n",
            "**********************\n",
            "***********************\n",
            "************************\n"
          ]
        }
      ]
    },
    {
      "cell_type": "markdown",
      "source": [
        "LISTS"
      ],
      "metadata": {
        "id": "5NF56UP8Y1R0"
      }
    },
    {
      "cell_type": "code",
      "source": [
        "a = [\"shravya\",608,\"Cheery\",\"CloudThat\",6562]"
      ],
      "metadata": {
        "id": "89SkxHhmY973"
      },
      "execution_count": 55,
      "outputs": []
    },
    {
      "cell_type": "code",
      "source": [
        "type(a)"
      ],
      "metadata": {
        "colab": {
          "base_uri": "https://localhost:8080/"
        },
        "id": "YFgzjcRfZgvA",
        "outputId": "89486d71-681a-420f-e05c-ac6841f96913"
      },
      "execution_count": 56,
      "outputs": [
        {
          "output_type": "execute_result",
          "data": {
            "text/plain": [
              "list"
            ]
          },
          "metadata": {},
          "execution_count": 56
        }
      ]
    },
    {
      "cell_type": "code",
      "source": [
        "print(a[2])\n",
        "print(a[3])"
      ],
      "metadata": {
        "colab": {
          "base_uri": "https://localhost:8080/"
        },
        "id": "eABlG53dZqoz",
        "outputId": "7da33635-eeb6-442c-c18e-430ecf93f24e"
      },
      "execution_count": 57,
      "outputs": [
        {
          "output_type": "stream",
          "name": "stdout",
          "text": [
            "Cheery\n",
            "CloudThat\n"
          ]
        }
      ]
    },
    {
      "cell_type": "markdown",
      "source": [
        "Modify list"
      ],
      "metadata": {
        "id": "-EFQUN_OZ2cX"
      }
    },
    {
      "cell_type": "code",
      "source": [
        "a.append(6)\n",
        "print(a)"
      ],
      "metadata": {
        "colab": {
          "base_uri": "https://localhost:8080/"
        },
        "id": "gdxeMAmFZ2LJ",
        "outputId": "ea5cf5ae-777c-4a60-826c-0aa010a8e4de"
      },
      "execution_count": 58,
      "outputs": [
        {
          "output_type": "stream",
          "name": "stdout",
          "text": [
            "['shravya', 608, 'Cheery', 'CloudThat', 6562, 6]\n"
          ]
        }
      ]
    },
    {
      "cell_type": "code",
      "source": [
        "b = [66,\"abcd\",98,\"AI\"]\n",
        "a.extend(b)\n",
        "print(a)"
      ],
      "metadata": {
        "colab": {
          "base_uri": "https://localhost:8080/"
        },
        "id": "QeucGYs9aVzL",
        "outputId": "9e1e4dd4-0708-43b2-8653-da0c103ffe72"
      },
      "execution_count": 59,
      "outputs": [
        {
          "output_type": "stream",
          "name": "stdout",
          "text": [
            "['shravya', 608, 'Cheery', 'CloudThat', 6562, 6, 66, 'abcd', 98, 'AI']\n"
          ]
        }
      ]
    },
    {
      "cell_type": "code",
      "source": [
        "a.insert(2,\"Hi all\")\n",
        "print(a)"
      ],
      "metadata": {
        "colab": {
          "base_uri": "https://localhost:8080/"
        },
        "id": "Po4_xstYaoOM",
        "outputId": "e7563e5c-aed3-448a-eb8e-e6c11e0a8ab4"
      },
      "execution_count": 60,
      "outputs": [
        {
          "output_type": "stream",
          "name": "stdout",
          "text": [
            "['shravya', 608, 'Hi all', 'Cheery', 'CloudThat', 6562, 6, 66, 'abcd', 98, 'AI']\n"
          ]
        }
      ]
    },
    {
      "cell_type": "code",
      "source": [
        "a[2] = \"Hello Everyone\"\n",
        "print(a)"
      ],
      "metadata": {
        "colab": {
          "base_uri": "https://localhost:8080/"
        },
        "id": "VMd2qfOka0i7",
        "outputId": "2cee1f7d-aec8-47bb-81bb-ae1ec3f2165b"
      },
      "execution_count": 61,
      "outputs": [
        {
          "output_type": "stream",
          "name": "stdout",
          "text": [
            "['shravya', 608, 'Hello Everyone', 'Cheery', 'CloudThat', 6562, 6, 66, 'abcd', 98, 'AI']\n"
          ]
        }
      ]
    },
    {
      "cell_type": "code",
      "source": [
        "del a[7]\n",
        "print(a)"
      ],
      "metadata": {
        "colab": {
          "base_uri": "https://localhost:8080/"
        },
        "id": "kiYgwKsBa6_9",
        "outputId": "0ddba2ea-95bd-46ed-af90-ed8f839becc2"
      },
      "execution_count": 62,
      "outputs": [
        {
          "output_type": "stream",
          "name": "stdout",
          "text": [
            "['shravya', 608, 'Hello Everyone', 'Cheery', 'CloudThat', 6562, 6, 'abcd', 98, 'AI']\n"
          ]
        }
      ]
    },
    {
      "cell_type": "code",
      "source": [
        "a.remove(6)\n",
        "print(a)"
      ],
      "metadata": {
        "colab": {
          "base_uri": "https://localhost:8080/"
        },
        "id": "8fqCI73gbDAW",
        "outputId": "4981a964-26a3-4bd8-b974-95ff49220a74"
      },
      "execution_count": 63,
      "outputs": [
        {
          "output_type": "stream",
          "name": "stdout",
          "text": [
            "['shravya', 608, 'Hello Everyone', 'Cheery', 'CloudThat', 6562, 'abcd', 98, 'AI']\n"
          ]
        }
      ]
    },
    {
      "cell_type": "code",
      "source": [
        "a.pop(1)\n",
        "print(a)"
      ],
      "metadata": {
        "id": "4gPpbEzUbPYm",
        "outputId": "2ba7826d-c72c-416a-a357-2418b6db0342",
        "colab": {
          "base_uri": "https://localhost:8080/"
        }
      },
      "execution_count": 64,
      "outputs": [
        {
          "output_type": "stream",
          "name": "stdout",
          "text": [
            "['shravya', 'Hello Everyone', 'Cheery', 'CloudThat', 6562, 'abcd', 98, 'AI']\n"
          ]
        }
      ]
    },
    {
      "cell_type": "markdown",
      "source": [
        "Positive Indexing"
      ],
      "metadata": {
        "id": "EYTHVvKl7IXk"
      }
    },
    {
      "cell_type": "code",
      "source": [
        "print(a[2])\n",
        "print(a[3])"
      ],
      "metadata": {
        "colab": {
          "base_uri": "https://localhost:8080/"
        },
        "id": "DvlfjjVJ7K4f",
        "outputId": "61dcfd6b-05a0-48b8-d14e-52386eb1d41e"
      },
      "execution_count": 65,
      "outputs": [
        {
          "output_type": "stream",
          "name": "stdout",
          "text": [
            "Cheery\n",
            "CloudThat\n"
          ]
        }
      ]
    },
    {
      "cell_type": "markdown",
      "source": [
        "Negative Indexing"
      ],
      "metadata": {
        "id": "N0KcBOgl7yS4"
      }
    },
    {
      "cell_type": "code",
      "source": [
        "print(a[-2])\n",
        "print(a[-3])"
      ],
      "metadata": {
        "colab": {
          "base_uri": "https://localhost:8080/"
        },
        "id": "MuuR3ENp70fM",
        "outputId": "72d28028-8e96-4aef-8983-d4064a975208"
      },
      "execution_count": 66,
      "outputs": [
        {
          "output_type": "stream",
          "name": "stdout",
          "text": [
            "98\n",
            "abcd\n"
          ]
        }
      ]
    },
    {
      "cell_type": "markdown",
      "source": [
        "Slicing"
      ],
      "metadata": {
        "id": "CgMuY4E68AZ2"
      }
    },
    {
      "cell_type": "code",
      "source": [
        "print(a)"
      ],
      "metadata": {
        "colab": {
          "base_uri": "https://localhost:8080/"
        },
        "id": "eIaHrSb18BZt",
        "outputId": "9181b6e2-d7cf-48d0-8422-141f4027587c"
      },
      "execution_count": 67,
      "outputs": [
        {
          "output_type": "stream",
          "name": "stdout",
          "text": [
            "['shravya', 'Hello Everyone', 'Cheery', 'CloudThat', 6562, 'abcd', 98, 'AI']\n"
          ]
        }
      ]
    },
    {
      "cell_type": "markdown",
      "source": [
        "Get a slice index 1 to 3"
      ],
      "metadata": {
        "id": "-HEtax6I8E7B"
      }
    },
    {
      "cell_type": "code",
      "source": [
        "print(a[1:3])"
      ],
      "metadata": {
        "colab": {
          "base_uri": "https://localhost:8080/"
        },
        "id": "xAUK9x3G8HjV",
        "outputId": "50d0a4d5-5ef3-4b8c-f27c-ff771e7a3723"
      },
      "execution_count": 68,
      "outputs": [
        {
          "output_type": "stream",
          "name": "stdout",
          "text": [
            "['Hello Everyone', 'Cheery']\n"
          ]
        }
      ]
    },
    {
      "cell_type": "code",
      "source": [
        "print(a[0:7:1])\n",
        "# Start (0): The slice starts from index 0 ('shravya').\n",
        "# Stop (7): The slice stops at index 7 (exclusive), so it includes elements up to index 6.\n",
        "# Step (1): The step determines the increment; here, it takes every element one at a time."
      ],
      "metadata": {
        "colab": {
          "base_uri": "https://localhost:8080/"
        },
        "id": "rV2h95ez8hAj",
        "outputId": "6403ead3-b71b-4ea0-88a6-812617854f7a"
      },
      "execution_count": 69,
      "outputs": [
        {
          "output_type": "stream",
          "name": "stdout",
          "text": [
            "['shravya', 'Hello Everyone', 'Cheery', 'CloudThat', 6562, 'abcd', 98]\n"
          ]
        }
      ]
    },
    {
      "cell_type": "code",
      "source": [
        "print(a[::-1])"
      ],
      "metadata": {
        "colab": {
          "base_uri": "https://localhost:8080/"
        },
        "id": "pl2wsaMI9bZs",
        "outputId": "afb3f94a-3a3c-4e42-882a-08b06d416506"
      },
      "execution_count": 70,
      "outputs": [
        {
          "output_type": "stream",
          "name": "stdout",
          "text": [
            "['AI', 98, 'abcd', 6562, 'CloudThat', 'Cheery', 'Hello Everyone', 'shravya']\n"
          ]
        }
      ]
    },
    {
      "cell_type": "code",
      "source": [
        "a = \"Shravya\"\n",
        "print(a[::-1])"
      ],
      "metadata": {
        "colab": {
          "base_uri": "https://localhost:8080/"
        },
        "id": "aa6_0GTG9u0q",
        "outputId": "77460657-422e-4809-ac79-4482a2f28be4"
      },
      "execution_count": 71,
      "outputs": [
        {
          "output_type": "stream",
          "name": "stdout",
          "text": [
            "ayvarhS\n"
          ]
        }
      ]
    },
    {
      "cell_type": "markdown",
      "source": [
        "Tuples"
      ],
      "metadata": {
        "id": "a45tfSJA96SK"
      }
    },
    {
      "cell_type": "markdown",
      "source": [
        "Creating the Tuple"
      ],
      "metadata": {
        "id": "aa-bwCZr-B3r"
      }
    },
    {
      "cell_type": "code",
      "source": [
        "tuple1 = (\"Shravya\" , \"Cheery\" , 2 , 4 , 6.8)"
      ],
      "metadata": {
        "id": "1XTJbdpX999-"
      },
      "execution_count": 72,
      "outputs": []
    },
    {
      "cell_type": "code",
      "source": [
        "tuple2 = 4 , 5, 6, \"Sushravya\""
      ],
      "metadata": {
        "id": "rMtxbS48-Nxs"
      },
      "execution_count": 73,
      "outputs": []
    },
    {
      "cell_type": "code",
      "source": [
        "tuple3 = ()"
      ],
      "metadata": {
        "id": "blAdW8kV-a7K"
      },
      "execution_count": 74,
      "outputs": []
    },
    {
      "cell_type": "code",
      "source": [
        "tuple4 = (42,)"
      ],
      "metadata": {
        "id": "lOSh_T8P-ehk"
      },
      "execution_count": 75,
      "outputs": []
    },
    {
      "cell_type": "code",
      "source": [
        "print(type(tuple1))\n",
        "print(type(tuple2))\n",
        "print(type(tuple3))\n",
        "print(type(tuple4))\n",
        "\n",
        "print(tuple1)\n",
        "print(tuple2)\n",
        "print(tuple3)\n",
        "print(tuple4)"
      ],
      "metadata": {
        "colab": {
          "base_uri": "https://localhost:8080/"
        },
        "id": "CErsrwXM-jPn",
        "outputId": "3e7f226a-e6f5-4514-d48d-1eac94b5774f"
      },
      "execution_count": 76,
      "outputs": [
        {
          "output_type": "stream",
          "name": "stdout",
          "text": [
            "<class 'tuple'>\n",
            "<class 'tuple'>\n",
            "<class 'tuple'>\n",
            "<class 'tuple'>\n",
            "('Shravya', 'Cheery', 2, 4, 6.8)\n",
            "(4, 5, 6, 'Sushravya')\n",
            "()\n",
            "(42,)\n"
          ]
        }
      ]
    },
    {
      "cell_type": "code",
      "source": [
        "tuple1[2]=\"abcd\""
      ],
      "metadata": {
        "colab": {
          "base_uri": "https://localhost:8080/",
          "height": 141
        },
        "id": "2MmOcjaL-qiF",
        "outputId": "50f38627-97c7-486c-c5a2-579f1db5343e"
      },
      "execution_count": 77,
      "outputs": [
        {
          "output_type": "error",
          "ename": "TypeError",
          "evalue": "'tuple' object does not support item assignment",
          "traceback": [
            "\u001b[0;31m---------------------------------------------------------------------------\u001b[0m",
            "\u001b[0;31mTypeError\u001b[0m                                 Traceback (most recent call last)",
            "\u001b[0;32m<ipython-input-77-c101eecfd463>\u001b[0m in \u001b[0;36m<cell line: 1>\u001b[0;34m()\u001b[0m\n\u001b[0;32m----> 1\u001b[0;31m \u001b[0mtuple1\u001b[0m\u001b[0;34m[\u001b[0m\u001b[0;36m2\u001b[0m\u001b[0;34m]\u001b[0m\u001b[0;34m=\u001b[0m\u001b[0;34m\"abcd\"\u001b[0m\u001b[0;34m\u001b[0m\u001b[0;34m\u001b[0m\u001b[0m\n\u001b[0m",
            "\u001b[0;31mTypeError\u001b[0m: 'tuple' object does not support item assignment"
          ]
        }
      ]
    },
    {
      "cell_type": "markdown",
      "source": [
        "Access the tuple elements"
      ],
      "metadata": {
        "id": "kTe6WCiA-yTl"
      }
    },
    {
      "cell_type": "code",
      "source": [
        "print(tuple1[2])"
      ],
      "metadata": {
        "colab": {
          "base_uri": "https://localhost:8080/"
        },
        "id": "wjmFNA5O-1JF",
        "outputId": "324d47e8-bff7-4cac-8e0c-3af1be9e4f2b"
      },
      "execution_count": 78,
      "outputs": [
        {
          "output_type": "stream",
          "name": "stdout",
          "text": [
            "2\n"
          ]
        }
      ]
    },
    {
      "cell_type": "markdown",
      "source": [
        "Tuple Operations"
      ],
      "metadata": {
        "id": "SX8WC5Ur-7Gh"
      }
    },
    {
      "cell_type": "code",
      "source": [
        "len(tuple1)"
      ],
      "metadata": {
        "colab": {
          "base_uri": "https://localhost:8080/"
        },
        "id": "VSEU_adK-8r7",
        "outputId": "0ffd385c-546c-451c-a47c-25178b679fd2"
      },
      "execution_count": 79,
      "outputs": [
        {
          "output_type": "execute_result",
          "data": {
            "text/plain": [
              "5"
            ]
          },
          "metadata": {},
          "execution_count": 79
        }
      ]
    },
    {
      "cell_type": "code",
      "source": [
        "new_tuple = tuple1 + tuple2\n",
        "print(new_tuple)"
      ],
      "metadata": {
        "colab": {
          "base_uri": "https://localhost:8080/"
        },
        "id": "bYDHwHcF_CJK",
        "outputId": "876dc3fe-8d35-4985-d953-4eb9f24401c8"
      },
      "execution_count": 80,
      "outputs": [
        {
          "output_type": "stream",
          "name": "stdout",
          "text": [
            "('Shravya', 'Cheery', 2, 4, 6.8, 4, 5, 6, 'Sushravya')\n"
          ]
        }
      ]
    },
    {
      "cell_type": "code",
      "source": [
        "print(tuple2)\n",
        "print(tuple2*3)"
      ],
      "metadata": {
        "colab": {
          "base_uri": "https://localhost:8080/"
        },
        "id": "y6c-qbDK_OUH",
        "outputId": "6b241e3e-8c5b-429f-d243-06ae0813a5cb"
      },
      "execution_count": 81,
      "outputs": [
        {
          "output_type": "stream",
          "name": "stdout",
          "text": [
            "(4, 5, 6, 'Sushravya')\n",
            "(4, 5, 6, 'Sushravya', 4, 5, 6, 'Sushravya', 4, 5, 6, 'Sushravya')\n"
          ]
        }
      ]
    },
    {
      "cell_type": "code",
      "source": [
        "print(\"Shravya\" in new_tuple)"
      ],
      "metadata": {
        "colab": {
          "base_uri": "https://localhost:8080/"
        },
        "id": "H5Fetiki_Y7N",
        "outputId": "956b69f1-8800-41cb-a4ff-a00a4937b9fc"
      },
      "execution_count": 82,
      "outputs": [
        {
          "output_type": "stream",
          "name": "stdout",
          "text": [
            "True\n"
          ]
        }
      ]
    },
    {
      "cell_type": "markdown",
      "source": [
        "Slicing"
      ],
      "metadata": {
        "id": "1SrqSO84_gD6"
      }
    },
    {
      "cell_type": "code",
      "source": [
        "print(tuple1)\n",
        "print(tuple1[1:4])"
      ],
      "metadata": {
        "colab": {
          "base_uri": "https://localhost:8080/"
        },
        "id": "5IqyU5qm_f3H",
        "outputId": "cdb06f0a-e4b3-46e3-b462-4be16a46b08d"
      },
      "execution_count": 83,
      "outputs": [
        {
          "output_type": "stream",
          "name": "stdout",
          "text": [
            "('Shravya', 'Cheery', 2, 4, 6.8)\n",
            "('Cheery', 2, 4)\n"
          ]
        }
      ]
    },
    {
      "cell_type": "code",
      "source": [
        "print(tuple1[::-1])"
      ],
      "metadata": {
        "colab": {
          "base_uri": "https://localhost:8080/"
        },
        "id": "FUe4oipL_p28",
        "outputId": "50fbd851-ee6e-4154-f79b-2b720012b392"
      },
      "execution_count": 84,
      "outputs": [
        {
          "output_type": "stream",
          "name": "stdout",
          "text": [
            "(6.8, 4, 2, 'Cheery', 'Shravya')\n"
          ]
        }
      ]
    },
    {
      "cell_type": "markdown",
      "source": [
        "**Sets**"
      ],
      "metadata": {
        "id": "3sdzTmPS_v6S"
      }
    },
    {
      "cell_type": "code",
      "source": [
        "#creating\n",
        "set1 = {1,2,3,4,5,6}\n",
        "print(set1)"
      ],
      "metadata": {
        "colab": {
          "base_uri": "https://localhost:8080/"
        },
        "id": "yTiGScbC_zH3",
        "outputId": "7f9622e7-4b77-4ddd-c43a-41912a65578d"
      },
      "execution_count": 86,
      "outputs": [
        {
          "output_type": "stream",
          "name": "stdout",
          "text": [
            "{1, 2, 3, 4, 5, 6}\n"
          ]
        }
      ]
    },
    {
      "cell_type": "code",
      "source": [
        "type(set1)"
      ],
      "metadata": {
        "colab": {
          "base_uri": "https://localhost:8080/"
        },
        "id": "weyrrXMe__WL",
        "outputId": "c76abc76-1d90-4656-e273-48d3344598e3"
      },
      "execution_count": 87,
      "outputs": [
        {
          "output_type": "execute_result",
          "data": {
            "text/plain": [
              "set"
            ]
          },
          "metadata": {},
          "execution_count": 87
        }
      ]
    },
    {
      "cell_type": "code",
      "source": [
        "empty = set()\n",
        "type(empty)"
      ],
      "metadata": {
        "colab": {
          "base_uri": "https://localhost:8080/"
        },
        "id": "IvBTn2Q7ABvC",
        "outputId": "a21f2568-7cb1-4890-8f8b-0d7d61d0aef4"
      },
      "execution_count": 88,
      "outputs": [
        {
          "output_type": "execute_result",
          "data": {
            "text/plain": [
              "set"
            ]
          },
          "metadata": {},
          "execution_count": 88
        }
      ]
    },
    {
      "cell_type": "markdown",
      "source": [
        "Set Operations"
      ],
      "metadata": {
        "id": "PfYq0-JyAI0L"
      }
    },
    {
      "cell_type": "code",
      "source": [
        "set1"
      ],
      "metadata": {
        "colab": {
          "base_uri": "https://localhost:8080/"
        },
        "id": "ObpN8nG3AK16",
        "outputId": "11ab3833-405c-4d40-c9d2-efd477678721"
      },
      "execution_count": 89,
      "outputs": [
        {
          "output_type": "execute_result",
          "data": {
            "text/plain": [
              "{1, 2, 3, 4, 5, 6}"
            ]
          },
          "metadata": {},
          "execution_count": 89
        }
      ]
    },
    {
      "cell_type": "code",
      "source": [
        "set1.add(98)\n",
        "print(set1)"
      ],
      "metadata": {
        "colab": {
          "base_uri": "https://localhost:8080/"
        },
        "id": "69T3Zw1zANUz",
        "outputId": "cb205a71-6e5d-4586-baa4-6c3a8d0622a6"
      },
      "execution_count": 90,
      "outputs": [
        {
          "output_type": "stream",
          "name": "stdout",
          "text": [
            "{1, 2, 3, 4, 5, 6, 98}\n"
          ]
        }
      ]
    },
    {
      "cell_type": "code",
      "source": [
        "set1.update([10,11,12])\n",
        "print(set1)"
      ],
      "metadata": {
        "colab": {
          "base_uri": "https://localhost:8080/"
        },
        "id": "vI8uauAyAWW2",
        "outputId": "2f4cc78e-04a2-4907-c5e8-69fa4cda9015"
      },
      "execution_count": 91,
      "outputs": [
        {
          "output_type": "stream",
          "name": "stdout",
          "text": [
            "{1, 2, 3, 4, 5, 6, 10, 11, 12, 98}\n"
          ]
        }
      ]
    },
    {
      "cell_type": "code",
      "source": [
        "set1.remove(10)\n",
        "print(set1)"
      ],
      "metadata": {
        "colab": {
          "base_uri": "https://localhost:8080/"
        },
        "id": "KZkJ7BlrAiSo",
        "outputId": "e1fdd995-42f5-4711-b23e-6aecdd7fb13b"
      },
      "execution_count": 92,
      "outputs": [
        {
          "output_type": "stream",
          "name": "stdout",
          "text": [
            "{1, 2, 3, 4, 5, 6, 11, 12, 98}\n"
          ]
        }
      ]
    },
    {
      "cell_type": "code",
      "source": [
        "set1.discard(98)\n",
        "print(set1)"
      ],
      "metadata": {
        "colab": {
          "base_uri": "https://localhost:8080/"
        },
        "id": "zG4v7hM6AmBb",
        "outputId": "69c0d8fe-0e54-4544-ccb1-9bd67dcfc3b8"
      },
      "execution_count": 93,
      "outputs": [
        {
          "output_type": "stream",
          "name": "stdout",
          "text": [
            "{1, 2, 3, 4, 5, 6, 11, 12}\n"
          ]
        }
      ]
    },
    {
      "cell_type": "code",
      "source": [
        "set1.clear()\n",
        "print(set1)"
      ],
      "metadata": {
        "colab": {
          "base_uri": "https://localhost:8080/"
        },
        "id": "YZCTMKhKAtib",
        "outputId": "117405c2-85cd-4fd8-92c0-4bf70b667fa6"
      },
      "execution_count": 94,
      "outputs": [
        {
          "output_type": "stream",
          "name": "stdout",
          "text": [
            "set()\n"
          ]
        }
      ]
    },
    {
      "cell_type": "markdown",
      "source": [
        "Set Operations"
      ],
      "metadata": {
        "id": "tBIs3FGGAyub"
      }
    },
    {
      "cell_type": "code",
      "source": [
        "#Union\n",
        "\n",
        "set1 = {1,2,3}\n",
        "set2 = {3,4,5}\n",
        "print(set1|set2)\n",
        "print(set1.union(set2))"
      ],
      "metadata": {
        "colab": {
          "base_uri": "https://localhost:8080/"
        },
        "id": "HGOgPW6iA0J3",
        "outputId": "2476c905-f615-4da1-ad13-1d82abf17785"
      },
      "execution_count": 95,
      "outputs": [
        {
          "output_type": "stream",
          "name": "stdout",
          "text": [
            "{1, 2, 3, 4, 5}\n",
            "{1, 2, 3, 4, 5}\n"
          ]
        }
      ]
    },
    {
      "cell_type": "code",
      "source": [
        "#intersection\n",
        "\n",
        "print(set1&set2)\n",
        "print(set1.intersection(set2))"
      ],
      "metadata": {
        "colab": {
          "base_uri": "https://localhost:8080/"
        },
        "id": "xENoHNFEBIrf",
        "outputId": "d431d5ea-8eeb-4352-b251-2cfe20b4f24a"
      },
      "execution_count": 96,
      "outputs": [
        {
          "output_type": "stream",
          "name": "stdout",
          "text": [
            "{3}\n",
            "{3}\n"
          ]
        }
      ]
    },
    {
      "cell_type": "code",
      "source": [
        "#Difference\n",
        "print(set1-set2)\n",
        "print(set1.difference(set2))"
      ],
      "metadata": {
        "colab": {
          "base_uri": "https://localhost:8080/"
        },
        "id": "jd1OVnznBYQs",
        "outputId": "7b9b1105-2ac4-4115-edb9-535c23f6e51f"
      },
      "execution_count": 97,
      "outputs": [
        {
          "output_type": "stream",
          "name": "stdout",
          "text": [
            "{1, 2}\n",
            "{1, 2}\n"
          ]
        }
      ]
    },
    {
      "cell_type": "code",
      "source": [
        "print(set2-set1)"
      ],
      "metadata": {
        "colab": {
          "base_uri": "https://localhost:8080/"
        },
        "id": "q0WLrgaUBpL8",
        "outputId": "272abb6c-7d3d-4aa5-e11a-2cd953497580"
      },
      "execution_count": 98,
      "outputs": [
        {
          "output_type": "stream",
          "name": "stdout",
          "text": [
            "{4, 5}\n"
          ]
        }
      ]
    },
    {
      "cell_type": "code",
      "source": [
        "#symmetric_difference\n",
        "print(set1^set2)\n",
        "print(set1.symmetric_difference(set2))"
      ],
      "metadata": {
        "colab": {
          "base_uri": "https://localhost:8080/"
        },
        "id": "pgqbInHwBu7x",
        "outputId": "8b728787-61a7-4373-8f3d-4cbcd7712bb7"
      },
      "execution_count": 99,
      "outputs": [
        {
          "output_type": "stream",
          "name": "stdout",
          "text": [
            "{1, 2, 4, 5}\n",
            "{1, 2, 4, 5}\n"
          ]
        }
      ]
    },
    {
      "cell_type": "markdown",
      "source": [
        "Dictionary"
      ],
      "metadata": {
        "id": "CDJcb5nMB8LX"
      }
    },
    {
      "cell_type": "code",
      "source": [
        "dict1 = {\n",
        "    \"101\":\"Shravya\",\n",
        "    \"102\":\"Cheery\",\n",
        "    \"103\":\"Ram\"\n",
        "}\n",
        "print(dict1)\n",
        "type(dict1)"
      ],
      "metadata": {
        "colab": {
          "base_uri": "https://localhost:8080/"
        },
        "id": "ZKzmxRmfB-fR",
        "outputId": "ca022603-6b48-4970-cfb4-2ec98ff103dd"
      },
      "execution_count": 100,
      "outputs": [
        {
          "output_type": "stream",
          "name": "stdout",
          "text": [
            "{'101': 'Shravya', '102': 'Cheery', '103': 'Ram'}\n"
          ]
        },
        {
          "output_type": "execute_result",
          "data": {
            "text/plain": [
              "dict"
            ]
          },
          "metadata": {},
          "execution_count": 100
        }
      ]
    },
    {
      "cell_type": "code",
      "source": [
        "dict3 = dict(name=\"Seeta\", age=26, city = \"Bengaluru\")\n",
        "print(dict3)\n",
        "type(dict3)"
      ],
      "metadata": {
        "colab": {
          "base_uri": "https://localhost:8080/"
        },
        "id": "3fD3b5-WCaTV",
        "outputId": "d5948854-db5d-4cf5-b25e-9ec61a33c671"
      },
      "execution_count": 101,
      "outputs": [
        {
          "output_type": "stream",
          "name": "stdout",
          "text": [
            "{'name': 'Seeta', 'age': 26, 'city': 'Bengaluru'}\n"
          ]
        },
        {
          "output_type": "execute_result",
          "data": {
            "text/plain": [
              "dict"
            ]
          },
          "metadata": {},
          "execution_count": 101
        }
      ]
    },
    {
      "cell_type": "markdown",
      "source": [
        "Access the data elements"
      ],
      "metadata": {
        "id": "CLvv5RoxCs5e"
      }
    },
    {
      "cell_type": "code",
      "source": [
        "print(dict1[\"101\"])"
      ],
      "metadata": {
        "colab": {
          "base_uri": "https://localhost:8080/"
        },
        "id": "ZIcrVqajCspM",
        "outputId": "f42ac39e-c146-49b3-fd36-f5a0dd87b881"
      },
      "execution_count": 102,
      "outputs": [
        {
          "output_type": "stream",
          "name": "stdout",
          "text": [
            "Shravya\n"
          ]
        }
      ]
    },
    {
      "cell_type": "code",
      "source": [
        "print(dict1.get(\"107\"))"
      ],
      "metadata": {
        "colab": {
          "base_uri": "https://localhost:8080/"
        },
        "id": "Y7PU4myfCykw",
        "outputId": "0b3dbf84-7eeb-41b0-b4c2-e8ebe6fb141f"
      },
      "execution_count": 103,
      "outputs": [
        {
          "output_type": "stream",
          "name": "stdout",
          "text": [
            "None\n"
          ]
        }
      ]
    },
    {
      "cell_type": "code",
      "source": [
        "print(dict1.get(\"106\",\"Not Found\"))"
      ],
      "metadata": {
        "colab": {
          "base_uri": "https://localhost:8080/"
        },
        "id": "H3PElx2VC3BY",
        "outputId": "ac04f91d-c472-491b-dd74-7265d93e1536"
      },
      "execution_count": 104,
      "outputs": [
        {
          "output_type": "stream",
          "name": "stdout",
          "text": [
            "Not Found\n"
          ]
        }
      ]
    },
    {
      "cell_type": "markdown",
      "source": [
        "Modifying the Dictionary"
      ],
      "metadata": {
        "id": "BIqpxTVlDM9O"
      }
    },
    {
      "cell_type": "code",
      "source": [
        "dict1"
      ],
      "metadata": {
        "colab": {
          "base_uri": "https://localhost:8080/"
        },
        "id": "lIgNVH8yDO55",
        "outputId": "4bb16e74-af25-48e7-868a-7111396d647d"
      },
      "execution_count": 105,
      "outputs": [
        {
          "output_type": "execute_result",
          "data": {
            "text/plain": [
              "{'101': 'Shravya', '102': 'Cheery', '103': 'Ram'}"
            ]
          },
          "metadata": {},
          "execution_count": 105
        }
      ]
    },
    {
      "cell_type": "code",
      "source": [
        "dict1[\"101\"] = \"Sushravya\"\n",
        "print(dict1)"
      ],
      "metadata": {
        "colab": {
          "base_uri": "https://localhost:8080/"
        },
        "id": "kRwUTY1cDS16",
        "outputId": "229c4d5a-0a55-4cc3-dd30-72ffe6c0a1e0"
      },
      "execution_count": 106,
      "outputs": [
        {
          "output_type": "stream",
          "name": "stdout",
          "text": [
            "{'101': 'Sushravya', '102': 'Cheery', '103': 'Ram'}\n"
          ]
        }
      ]
    },
    {
      "cell_type": "code",
      "source": [
        "dict1[\"103\"]=\"Seeta\"\n",
        "print(dict1)"
      ],
      "metadata": {
        "colab": {
          "base_uri": "https://localhost:8080/"
        },
        "id": "SrNo3q8GDYUe",
        "outputId": "8d373c69-116b-496f-cc43-9b7870a13ffe"
      },
      "execution_count": 107,
      "outputs": [
        {
          "output_type": "stream",
          "name": "stdout",
          "text": [
            "{'101': 'Sushravya', '102': 'Cheery', '103': 'Seeta'}\n"
          ]
        }
      ]
    },
    {
      "cell_type": "markdown",
      "source": [
        "Remove the items"
      ],
      "metadata": {
        "id": "Riv4hyxnDhRk"
      }
    },
    {
      "cell_type": "code",
      "source": [
        "del dict1[\"102\"]"
      ],
      "metadata": {
        "id": "8mLB6fCMDid0"
      },
      "execution_count": 108,
      "outputs": []
    },
    {
      "cell_type": "code",
      "source": [
        "dict1"
      ],
      "metadata": {
        "colab": {
          "base_uri": "https://localhost:8080/"
        },
        "id": "0PgzuZ8cD7f-",
        "outputId": "0989e32c-a9f4-4185-e76d-a2b332a8af31"
      },
      "execution_count": 109,
      "outputs": [
        {
          "output_type": "execute_result",
          "data": {
            "text/plain": [
              "{'101': 'Sushravya', '103': 'Seeta'}"
            ]
          },
          "metadata": {},
          "execution_count": 109
        }
      ]
    },
    {
      "cell_type": "code",
      "source": [
        "dict1 = {\n",
        "    \"101\":\"Shravya\",\n",
        "    \"102\":\"Cheery\",\n",
        "}\n",
        "print(dict1)\n"
      ],
      "metadata": {
        "colab": {
          "base_uri": "https://localhost:8080/"
        },
        "id": "QrhwjvzbEbCN",
        "outputId": "3966eb10-e6d6-48f8-ab07-7e1ab9ea1731"
      },
      "execution_count": 110,
      "outputs": [
        {
          "output_type": "stream",
          "name": "stdout",
          "text": [
            "{'101': 'Shravya', '102': 'Cheery'}\n"
          ]
        }
      ]
    },
    {
      "cell_type": "code",
      "source": [
        "b = dict1.pop(\"101\")"
      ],
      "metadata": {
        "id": "RZ5yrT8cEskk"
      },
      "execution_count": 111,
      "outputs": []
    },
    {
      "cell_type": "code",
      "source": [
        "dict1\n",
        "len(dict1)"
      ],
      "metadata": {
        "colab": {
          "base_uri": "https://localhost:8080/"
        },
        "id": "8DaJM9F4E-vJ",
        "outputId": "cadffe5e-553d-4b0f-c56b-ab4f6c8d7740"
      },
      "execution_count": 112,
      "outputs": [
        {
          "output_type": "execute_result",
          "data": {
            "text/plain": [
              "1"
            ]
          },
          "metadata": {},
          "execution_count": 112
        }
      ]
    },
    {
      "cell_type": "code",
      "source": [
        "dict1.clear()\n",
        "dict1"
      ],
      "metadata": {
        "colab": {
          "base_uri": "https://localhost:8080/"
        },
        "id": "It5zRYvyFJPS",
        "outputId": "1e5a604f-f169-41a1-de77-2f93de0942b7"
      },
      "execution_count": 113,
      "outputs": [
        {
          "output_type": "execute_result",
          "data": {
            "text/plain": [
              "{}"
            ]
          },
          "metadata": {},
          "execution_count": 113
        }
      ]
    },
    {
      "cell_type": "code",
      "source": [
        "len(dict1)"
      ],
      "metadata": {
        "colab": {
          "base_uri": "https://localhost:8080/"
        },
        "id": "V1TxgklOFNBU",
        "outputId": "a7944343-12e6-480c-fc21-3d458526d0a0"
      },
      "execution_count": 114,
      "outputs": [
        {
          "output_type": "execute_result",
          "data": {
            "text/plain": [
              "0"
            ]
          },
          "metadata": {},
          "execution_count": 114
        }
      ]
    },
    {
      "cell_type": "markdown",
      "source": [
        "Popitem()"
      ],
      "metadata": {
        "id": "bZqntslyFVFO"
      }
    },
    {
      "cell_type": "code",
      "source": [
        "abc = {1:\"apple\",2:\"Banana\",3:\"orange\"}\n",
        "print(abc)"
      ],
      "metadata": {
        "colab": {
          "base_uri": "https://localhost:8080/"
        },
        "id": "6tP_BXoRFWgG",
        "outputId": "3f238906-8a25-4bb5-c3e2-fae1401358b3"
      },
      "execution_count": 115,
      "outputs": [
        {
          "output_type": "stream",
          "name": "stdout",
          "text": [
            "{1: 'apple', 2: 'Banana', 3: 'orange'}\n"
          ]
        }
      ]
    },
    {
      "cell_type": "code",
      "source": [
        "abc[\"4\"] = \"dog\"\n",
        "print(abc)"
      ],
      "metadata": {
        "colab": {
          "base_uri": "https://localhost:8080/"
        },
        "id": "9gNvnNOGFfuS",
        "outputId": "a9cfbfbb-e455-4316-ee31-0d0af30c0b69"
      },
      "execution_count": 116,
      "outputs": [
        {
          "output_type": "stream",
          "name": "stdout",
          "text": [
            "{1: 'apple', 2: 'Banana', 3: 'orange', '4': 'dog'}\n"
          ]
        }
      ]
    },
    {
      "cell_type": "code",
      "source": [
        "abc.popitem()"
      ],
      "metadata": {
        "colab": {
          "base_uri": "https://localhost:8080/"
        },
        "id": "RAz6ncKHFnsG",
        "outputId": "56df5a21-7ffe-4f5c-bb58-c7e9eb1b6145"
      },
      "execution_count": 117,
      "outputs": [
        {
          "output_type": "execute_result",
          "data": {
            "text/plain": [
              "('4', 'dog')"
            ]
          },
          "metadata": {},
          "execution_count": 117
        }
      ]
    },
    {
      "cell_type": "code",
      "source": [
        "print(abc)"
      ],
      "metadata": {
        "colab": {
          "base_uri": "https://localhost:8080/"
        },
        "id": "O3grVQsmFreT",
        "outputId": "49f8f8ec-f07e-42f5-cb23-da8d587d2834"
      },
      "execution_count": 118,
      "outputs": [
        {
          "output_type": "stream",
          "name": "stdout",
          "text": [
            "{1: 'apple', 2: 'Banana', 3: 'orange'}\n"
          ]
        }
      ]
    },
    {
      "cell_type": "markdown",
      "source": [
        "Dictionary Methods"
      ],
      "metadata": {
        "id": "HbBN0RY0FzUY"
      }
    },
    {
      "cell_type": "code",
      "source": [
        "print(abc.keys())"
      ],
      "metadata": {
        "colab": {
          "base_uri": "https://localhost:8080/"
        },
        "id": "bxfEH0-vF2Ak",
        "outputId": "a66d1829-6bad-4db4-e061-8cfbd9fc99f4"
      },
      "execution_count": 119,
      "outputs": [
        {
          "output_type": "stream",
          "name": "stdout",
          "text": [
            "dict_keys([1, 2, 3])\n"
          ]
        }
      ]
    },
    {
      "cell_type": "code",
      "source": [
        "print(abc.values())"
      ],
      "metadata": {
        "colab": {
          "base_uri": "https://localhost:8080/"
        },
        "id": "g6YKJWJYF-9P",
        "outputId": "3832bf89-345b-499a-c7e8-8105feb69c21"
      },
      "execution_count": 120,
      "outputs": [
        {
          "output_type": "stream",
          "name": "stdout",
          "text": [
            "dict_values(['apple', 'Banana', 'orange'])\n"
          ]
        }
      ]
    },
    {
      "cell_type": "code",
      "source": [
        "print(abc.items())"
      ],
      "metadata": {
        "colab": {
          "base_uri": "https://localhost:8080/"
        },
        "id": "6KBU_A_8GC5z",
        "outputId": "27037959-8752-4401-9cd3-e1562c9ccb85"
      },
      "execution_count": 121,
      "outputs": [
        {
          "output_type": "stream",
          "name": "stdout",
          "text": [
            "dict_items([(1, 'apple'), (2, 'Banana'), (3, 'orange')])\n"
          ]
        }
      ]
    },
    {
      "cell_type": "markdown",
      "source": [
        "Update"
      ],
      "metadata": {
        "id": "nc0Uhbv7GGn3"
      }
    },
    {
      "cell_type": "code",
      "source": [
        "abc.update({4:\"disk\",5:\"storage\",6:\"Cloud\"})\n",
        "abc"
      ],
      "metadata": {
        "colab": {
          "base_uri": "https://localhost:8080/"
        },
        "id": "wEcWOF38GH4H",
        "outputId": "0173e522-0f38-4aa7-f85c-3975da6d5b4f"
      },
      "execution_count": 122,
      "outputs": [
        {
          "output_type": "execute_result",
          "data": {
            "text/plain": [
              "{1: 'apple', 2: 'Banana', 3: 'orange', 4: 'disk', 5: 'storage', 6: 'Cloud'}"
            ]
          },
          "metadata": {},
          "execution_count": 122
        }
      ]
    },
    {
      "cell_type": "code",
      "source": [
        "xyz = {7:\"Flag\",8:\"flower\"}\n",
        "abc.update(xyz)\n",
        "abc"
      ],
      "metadata": {
        "colab": {
          "base_uri": "https://localhost:8080/"
        },
        "id": "7z45C1E1GVKQ",
        "outputId": "89900075-da5b-4bef-9da2-d9eb37f213e1"
      },
      "execution_count": 123,
      "outputs": [
        {
          "output_type": "execute_result",
          "data": {
            "text/plain": [
              "{1: 'apple',\n",
              " 2: 'Banana',\n",
              " 3: 'orange',\n",
              " 4: 'disk',\n",
              " 5: 'storage',\n",
              " 6: 'Cloud',\n",
              " 7: 'Flag',\n",
              " 8: 'flower'}"
            ]
          },
          "metadata": {},
          "execution_count": 123
        }
      ]
    }
  ]
}